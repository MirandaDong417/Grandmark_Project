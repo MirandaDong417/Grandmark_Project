{
 "cells": [
  {
   "cell_type": "code",
   "execution_count": 1,
   "metadata": {},
   "outputs": [],
   "source": [
    "import pandas as pd\n",
    "import numpy as np\n",
    "pd.set_option('display.max_columns', None)"
   ]
  },
  {
   "cell_type": "code",
   "execution_count": 2,
   "metadata": {},
   "outputs": [],
   "source": [
    "xls = pd.ExcelFile('Supplier Lead Times.xlsx')\n",
    "default_lead = pd.read_excel(xls, 'Default Lead')\n",
    "stock_lead1 = pd.read_excel(xls, 'Stock Lead')\n",
    "stock_lead2 = pd.read_excel(xls, 'Sheet4')"
   ]
  },
  {
   "cell_type": "code",
   "execution_count": 3,
   "metadata": {},
   "outputs": [
    {
     "data": {
      "text/plain": [
       "(61, 3)"
      ]
     },
     "execution_count": 3,
     "metadata": {},
     "output_type": "execute_result"
    }
   ],
   "source": [
    "default_lead.shape"
   ]
  },
  {
   "cell_type": "code",
   "execution_count": 4,
   "metadata": {},
   "outputs": [
    {
     "data": {
      "text/plain": [
       "(490499, 10)"
      ]
     },
     "execution_count": 4,
     "metadata": {},
     "output_type": "execute_result"
    }
   ],
   "source": [
    "stock_lead1.shape"
   ]
  },
  {
   "cell_type": "code",
   "execution_count": 5,
   "metadata": {},
   "outputs": [
    {
     "data": {
      "text/plain": [
       "(528518, 10)"
      ]
     },
     "execution_count": 5,
     "metadata": {},
     "output_type": "execute_result"
    }
   ],
   "source": [
    "stock_lead2.shape"
   ]
  },
  {
   "cell_type": "code",
   "execution_count": 6,
   "metadata": {},
   "outputs": [],
   "source": [
    "# check and drop duplicates\n",
    "default_lead.drop_duplicates(inplace = True)"
   ]
  },
  {
   "cell_type": "code",
   "execution_count": 7,
   "metadata": {},
   "outputs": [
    {
     "data": {
      "text/plain": [
       "False    490499\n",
       "dtype: int64"
      ]
     },
     "execution_count": 7,
     "metadata": {},
     "output_type": "execute_result"
    }
   ],
   "source": [
    "stock_lead1.duplicated().value_counts()"
   ]
  },
  {
   "cell_type": "code",
   "execution_count": 8,
   "metadata": {},
   "outputs": [
    {
     "data": {
      "text/plain": [
       "False    528518\n",
       "dtype: int64"
      ]
     },
     "execution_count": 8,
     "metadata": {},
     "output_type": "execute_result"
    }
   ],
   "source": [
    "stock_lead2.duplicated().value_counts()"
   ]
  },
  {
   "cell_type": "code",
   "execution_count": 9,
   "metadata": {},
   "outputs": [
    {
     "data": {
      "text/html": [
       "<div>\n",
       "<style scoped>\n",
       "    .dataframe tbody tr th:only-of-type {\n",
       "        vertical-align: middle;\n",
       "    }\n",
       "\n",
       "    .dataframe tbody tr th {\n",
       "        vertical-align: top;\n",
       "    }\n",
       "\n",
       "    .dataframe thead th {\n",
       "        text-align: right;\n",
       "    }\n",
       "</style>\n",
       "<table border=\"1\" class=\"dataframe\">\n",
       "  <thead>\n",
       "    <tr style=\"text-align: right;\">\n",
       "      <th></th>\n",
       "      <th>Supplier</th>\n",
       "      <th>LoadingPort</th>\n",
       "      <th>TotalLeadTime</th>\n",
       "    </tr>\n",
       "  </thead>\n",
       "  <tbody>\n",
       "    <tr>\n",
       "      <th>0</th>\n",
       "      <td>JADD010</td>\n",
       "      <td>NINGBO</td>\n",
       "      <td>105</td>\n",
       "    </tr>\n",
       "    <tr>\n",
       "      <th>1</th>\n",
       "      <td>JBEN020</td>\n",
       "      <td>NINGBO</td>\n",
       "      <td>120</td>\n",
       "    </tr>\n",
       "    <tr>\n",
       "      <th>2</th>\n",
       "      <td>JBRT010</td>\n",
       "      <td>NINGBO</td>\n",
       "      <td>120</td>\n",
       "    </tr>\n",
       "    <tr>\n",
       "      <th>3</th>\n",
       "      <td>JCDA010</td>\n",
       "      <td>NINGBO</td>\n",
       "      <td>90</td>\n",
       "    </tr>\n",
       "    <tr>\n",
       "      <th>4</th>\n",
       "      <td>JRCC010</td>\n",
       "      <td>NaN</td>\n",
       "      <td>30</td>\n",
       "    </tr>\n",
       "  </tbody>\n",
       "</table>\n",
       "</div>"
      ],
      "text/plain": [
       "  Supplier LoadingPort  TotalLeadTime\n",
       "0  JADD010      NINGBO            105\n",
       "1  JBEN020      NINGBO            120\n",
       "2  JBRT010      NINGBO            120\n",
       "3  JCDA010      NINGBO             90\n",
       "4  JRCC010         NaN             30"
      ]
     },
     "execution_count": 9,
     "metadata": {},
     "output_type": "execute_result"
    }
   ],
   "source": [
    "default_lead.head()"
   ]
  },
  {
   "cell_type": "code",
   "execution_count": 10,
   "metadata": {},
   "outputs": [
    {
     "data": {
      "text/html": [
       "<div>\n",
       "<style scoped>\n",
       "    .dataframe tbody tr th:only-of-type {\n",
       "        vertical-align: middle;\n",
       "    }\n",
       "\n",
       "    .dataframe tbody tr th {\n",
       "        vertical-align: top;\n",
       "    }\n",
       "\n",
       "    .dataframe thead th {\n",
       "        text-align: right;\n",
       "    }\n",
       "</style>\n",
       "<table border=\"1\" class=\"dataframe\">\n",
       "  <thead>\n",
       "    <tr style=\"text-align: right;\">\n",
       "      <th></th>\n",
       "      <th>StockCode</th>\n",
       "      <th>Supplier</th>\n",
       "      <th>LoadingPort</th>\n",
       "      <th>DestinationPort</th>\n",
       "      <th>Warehouse</th>\n",
       "      <th>ToSupplierDays</th>\n",
       "      <th>FactoryDeliveryDays</th>\n",
       "      <th>VesselDays</th>\n",
       "      <th>ToWarehouseDays</th>\n",
       "      <th>TotalLeadTime</th>\n",
       "    </tr>\n",
       "  </thead>\n",
       "  <tbody>\n",
       "    <tr>\n",
       "      <th>0</th>\n",
       "      <td>.K6RTC</td>\n",
       "      <td>JTOR020</td>\n",
       "      <td>NINGBO</td>\n",
       "      <td>CAPE TOWN</td>\n",
       "      <td>C2</td>\n",
       "      <td>1</td>\n",
       "      <td>90</td>\n",
       "      <td>33</td>\n",
       "      <td>2</td>\n",
       "      <td>126</td>\n",
       "    </tr>\n",
       "    <tr>\n",
       "      <th>1</th>\n",
       "      <td>.K6RTC</td>\n",
       "      <td>JTOR020</td>\n",
       "      <td>NINGBO</td>\n",
       "      <td>DURBAN</td>\n",
       "      <td>B3</td>\n",
       "      <td>1</td>\n",
       "      <td>90</td>\n",
       "      <td>24</td>\n",
       "      <td>5</td>\n",
       "      <td>120</td>\n",
       "    </tr>\n",
       "    <tr>\n",
       "      <th>2</th>\n",
       "      <td>.K6RTC</td>\n",
       "      <td>JTOR020</td>\n",
       "      <td>NINGBO</td>\n",
       "      <td>DURBAN</td>\n",
       "      <td>CW</td>\n",
       "      <td>1</td>\n",
       "      <td>90</td>\n",
       "      <td>24</td>\n",
       "      <td>5</td>\n",
       "      <td>120</td>\n",
       "    </tr>\n",
       "    <tr>\n",
       "      <th>3</th>\n",
       "      <td>.K6RTC</td>\n",
       "      <td>JTOR020</td>\n",
       "      <td>NINGBO</td>\n",
       "      <td>DURBAN</td>\n",
       "      <td>D1</td>\n",
       "      <td>1</td>\n",
       "      <td>90</td>\n",
       "      <td>24</td>\n",
       "      <td>4</td>\n",
       "      <td>119</td>\n",
       "    </tr>\n",
       "    <tr>\n",
       "      <th>4</th>\n",
       "      <td>.K6RTC</td>\n",
       "      <td>JTOR020</td>\n",
       "      <td>NINGBO</td>\n",
       "      <td>DURBAN</td>\n",
       "      <td>J1</td>\n",
       "      <td>1</td>\n",
       "      <td>90</td>\n",
       "      <td>24</td>\n",
       "      <td>5</td>\n",
       "      <td>120</td>\n",
       "    </tr>\n",
       "  </tbody>\n",
       "</table>\n",
       "</div>"
      ],
      "text/plain": [
       "  StockCode Supplier LoadingPort DestinationPort Warehouse  ToSupplierDays  \\\n",
       "0    .K6RTC  JTOR020      NINGBO       CAPE TOWN        C2               1   \n",
       "1    .K6RTC  JTOR020      NINGBO          DURBAN        B3               1   \n",
       "2    .K6RTC  JTOR020      NINGBO          DURBAN        CW               1   \n",
       "3    .K6RTC  JTOR020      NINGBO          DURBAN        D1               1   \n",
       "4    .K6RTC  JTOR020      NINGBO          DURBAN        J1               1   \n",
       "\n",
       "   FactoryDeliveryDays  VesselDays  ToWarehouseDays  TotalLeadTime  \n",
       "0                   90          33                2            126  \n",
       "1                   90          24                5            120  \n",
       "2                   90          24                5            120  \n",
       "3                   90          24                4            119  \n",
       "4                   90          24                5            120  "
      ]
     },
     "execution_count": 10,
     "metadata": {},
     "output_type": "execute_result"
    }
   ],
   "source": [
    "stock_lead1.head()"
   ]
  },
  {
   "cell_type": "code",
   "execution_count": 11,
   "metadata": {},
   "outputs": [
    {
     "data": {
      "text/html": [
       "<div>\n",
       "<style scoped>\n",
       "    .dataframe tbody tr th:only-of-type {\n",
       "        vertical-align: middle;\n",
       "    }\n",
       "\n",
       "    .dataframe tbody tr th {\n",
       "        vertical-align: top;\n",
       "    }\n",
       "\n",
       "    .dataframe thead th {\n",
       "        text-align: right;\n",
       "    }\n",
       "</style>\n",
       "<table border=\"1\" class=\"dataframe\">\n",
       "  <thead>\n",
       "    <tr style=\"text-align: right;\">\n",
       "      <th></th>\n",
       "      <th>StockCode</th>\n",
       "      <th>Supplier</th>\n",
       "      <th>LoadingPort</th>\n",
       "      <th>DestinationPort</th>\n",
       "      <th>Warehouse</th>\n",
       "      <th>ToSupplierDays</th>\n",
       "      <th>FactoryDeliveryDays</th>\n",
       "      <th>VesselDays</th>\n",
       "      <th>ToWarehouseDays</th>\n",
       "      <th>TotalLeadTime</th>\n",
       "    </tr>\n",
       "  </thead>\n",
       "  <tbody>\n",
       "    <tr>\n",
       "      <th>0</th>\n",
       "      <td>HD0700FD02</td>\n",
       "      <td>JHON010</td>\n",
       "      <td>KAOHSIUNG</td>\n",
       "      <td>CAPE TOWN</td>\n",
       "      <td>C2</td>\n",
       "      <td>2</td>\n",
       "      <td>45</td>\n",
       "      <td>29</td>\n",
       "      <td>2</td>\n",
       "      <td>78</td>\n",
       "    </tr>\n",
       "    <tr>\n",
       "      <th>1</th>\n",
       "      <td>HD0700FD02</td>\n",
       "      <td>JHON010</td>\n",
       "      <td>KAOHSIUNG</td>\n",
       "      <td>DURBAN</td>\n",
       "      <td>B3</td>\n",
       "      <td>2</td>\n",
       "      <td>45</td>\n",
       "      <td>24</td>\n",
       "      <td>5</td>\n",
       "      <td>76</td>\n",
       "    </tr>\n",
       "    <tr>\n",
       "      <th>2</th>\n",
       "      <td>HD0700FD02</td>\n",
       "      <td>JHON010</td>\n",
       "      <td>KAOHSIUNG</td>\n",
       "      <td>DURBAN</td>\n",
       "      <td>CW</td>\n",
       "      <td>2</td>\n",
       "      <td>45</td>\n",
       "      <td>24</td>\n",
       "      <td>5</td>\n",
       "      <td>76</td>\n",
       "    </tr>\n",
       "    <tr>\n",
       "      <th>3</th>\n",
       "      <td>HD0700FD02</td>\n",
       "      <td>JHON010</td>\n",
       "      <td>KAOHSIUNG</td>\n",
       "      <td>DURBAN</td>\n",
       "      <td>D1</td>\n",
       "      <td>2</td>\n",
       "      <td>45</td>\n",
       "      <td>24</td>\n",
       "      <td>4</td>\n",
       "      <td>75</td>\n",
       "    </tr>\n",
       "    <tr>\n",
       "      <th>4</th>\n",
       "      <td>HD0700FD02</td>\n",
       "      <td>JHON010</td>\n",
       "      <td>KAOHSIUNG</td>\n",
       "      <td>DURBAN</td>\n",
       "      <td>J1</td>\n",
       "      <td>2</td>\n",
       "      <td>45</td>\n",
       "      <td>24</td>\n",
       "      <td>5</td>\n",
       "      <td>76</td>\n",
       "    </tr>\n",
       "  </tbody>\n",
       "</table>\n",
       "</div>"
      ],
      "text/plain": [
       "    StockCode Supplier LoadingPort DestinationPort Warehouse  ToSupplierDays  \\\n",
       "0  HD0700FD02  JHON010   KAOHSIUNG       CAPE TOWN        C2               2   \n",
       "1  HD0700FD02  JHON010   KAOHSIUNG          DURBAN        B3               2   \n",
       "2  HD0700FD02  JHON010   KAOHSIUNG          DURBAN        CW               2   \n",
       "3  HD0700FD02  JHON010   KAOHSIUNG          DURBAN        D1               2   \n",
       "4  HD0700FD02  JHON010   KAOHSIUNG          DURBAN        J1               2   \n",
       "\n",
       "   FactoryDeliveryDays  VesselDays  ToWarehouseDays  TotalLeadTime  \n",
       "0                   45          29                2             78  \n",
       "1                   45          24                5             76  \n",
       "2                   45          24                5             76  \n",
       "3                   45          24                4             75  \n",
       "4                   45          24                5             76  "
      ]
     },
     "execution_count": 11,
     "metadata": {},
     "output_type": "execute_result"
    }
   ],
   "source": [
    "stock_lead2.head()"
   ]
  },
  {
   "cell_type": "code",
   "execution_count": 12,
   "metadata": {},
   "outputs": [
    {
     "data": {
      "text/plain": [
       "array(['C2', 'B3', 'CW', 'D1', 'J1', 'J2', 'J3', 'L2', 'N1', 'P2', 'E1',\n",
       "       'EL', 'G1', 'L1'], dtype=object)"
      ]
     },
     "execution_count": 12,
     "metadata": {},
     "output_type": "execute_result"
    }
   ],
   "source": [
    "stock_lead1.Warehouse.unique()"
   ]
  },
  {
   "cell_type": "code",
   "execution_count": 13,
   "metadata": {},
   "outputs": [
    {
     "data": {
      "text/plain": [
       "array(['C2', 'B3', 'CW', 'D1', 'J1', 'J2', 'J3', 'L2', 'N1', 'P2', 'E1',\n",
       "       'EL', 'G1', 'L1'], dtype=object)"
      ]
     },
     "execution_count": 13,
     "metadata": {},
     "output_type": "execute_result"
    }
   ],
   "source": [
    "stock_lead2.Warehouse.unique()"
   ]
  },
  {
   "cell_type": "code",
   "execution_count": 14,
   "metadata": {},
   "outputs": [],
   "source": [
    "# NO data for J0, A1 warehouses"
   ]
  },
  {
   "cell_type": "code",
   "execution_count": 15,
   "metadata": {},
   "outputs": [],
   "source": [
    "# sperate data tables for different warehouses"
   ]
  },
  {
   "cell_type": "code",
   "execution_count": 16,
   "metadata": {},
   "outputs": [],
   "source": [
    "C2_stock_lead1 = stock_lead1[stock_lead1.Warehouse == 'C2']\n",
    "C2_stock_lead2 = stock_lead2[stock_lead2.Warehouse == 'C2']"
   ]
  },
  {
   "cell_type": "code",
   "execution_count": 17,
   "metadata": {},
   "outputs": [],
   "source": [
    "C2_stock_lead = pd.concat([C2_stock_lead1,C2_stock_lead2]).reset_index(drop=True)"
   ]
  },
  {
   "cell_type": "code",
   "execution_count": 18,
   "metadata": {},
   "outputs": [
    {
     "data": {
      "text/plain": [
       "(85711, 10)"
      ]
     },
     "execution_count": 18,
     "metadata": {},
     "output_type": "execute_result"
    }
   ],
   "source": [
    "C2_stock_lead.shape"
   ]
  },
  {
   "cell_type": "code",
   "execution_count": 19,
   "metadata": {},
   "outputs": [],
   "source": [
    "J1_stock_lead1 = stock_lead1[stock_lead1.Warehouse == 'J1']\n",
    "J1_stock_lead2 = stock_lead2[stock_lead2.Warehouse == 'J1']"
   ]
  },
  {
   "cell_type": "code",
   "execution_count": 20,
   "metadata": {},
   "outputs": [],
   "source": [
    "J1_stock_lead = pd.concat([J1_stock_lead1,J1_stock_lead2]).reset_index(drop=True)"
   ]
  },
  {
   "cell_type": "code",
   "execution_count": 21,
   "metadata": {},
   "outputs": [
    {
     "data": {
      "text/plain": [
       "(102783, 10)"
      ]
     },
     "execution_count": 21,
     "metadata": {},
     "output_type": "execute_result"
    }
   ],
   "source": [
    "J1_stock_lead.shape"
   ]
  },
  {
   "cell_type": "code",
   "execution_count": 22,
   "metadata": {},
   "outputs": [],
   "source": [
    "J2_stock_lead1 = stock_lead1[stock_lead1.Warehouse == 'J2']\n",
    "J2_stock_lead2 = stock_lead2[stock_lead2.Warehouse == 'J2']"
   ]
  },
  {
   "cell_type": "code",
   "execution_count": 23,
   "metadata": {},
   "outputs": [],
   "source": [
    "J2_stock_lead = pd.concat([J2_stock_lead1,J2_stock_lead2]).reset_index(drop=True)"
   ]
  },
  {
   "cell_type": "code",
   "execution_count": 24,
   "metadata": {},
   "outputs": [
    {
     "data": {
      "text/plain": [
       "(102783, 10)"
      ]
     },
     "execution_count": 24,
     "metadata": {},
     "output_type": "execute_result"
    }
   ],
   "source": [
    "J2_stock_lead.shape"
   ]
  },
  {
   "cell_type": "code",
   "execution_count": 25,
   "metadata": {},
   "outputs": [],
   "source": [
    "J3_stock_lead1 = stock_lead1[stock_lead1.Warehouse == 'J3']\n",
    "J3_stock_lead2 = stock_lead2[stock_lead2.Warehouse == 'J3']"
   ]
  },
  {
   "cell_type": "code",
   "execution_count": 26,
   "metadata": {},
   "outputs": [],
   "source": [
    "J3_stock_lead = pd.concat([J3_stock_lead1,J3_stock_lead2]).reset_index(drop=True)"
   ]
  },
  {
   "cell_type": "code",
   "execution_count": 27,
   "metadata": {},
   "outputs": [
    {
     "data": {
      "text/plain": [
       "(102783, 10)"
      ]
     },
     "execution_count": 27,
     "metadata": {},
     "output_type": "execute_result"
    }
   ],
   "source": [
    "J3_stock_lead.shape"
   ]
  },
  {
   "cell_type": "code",
   "execution_count": null,
   "metadata": {},
   "outputs": [],
   "source": []
  },
  {
   "cell_type": "markdown",
   "metadata": {},
   "source": [
    "# C2"
   ]
  },
  {
   "cell_type": "code",
   "execution_count": 28,
   "metadata": {},
   "outputs": [],
   "source": [
    "C2_sales = pd.read_excel('sale_movements/sales_movements_C2.xlsx')"
   ]
  },
  {
   "cell_type": "code",
   "execution_count": 29,
   "metadata": {},
   "outputs": [
    {
     "data": {
      "text/plain": [
       "0"
      ]
     },
     "execution_count": 29,
     "metadata": {},
     "output_type": "execute_result"
    }
   ],
   "source": [
    "C2_sales.duplicated().sum()"
   ]
  },
  {
   "cell_type": "code",
   "execution_count": 31,
   "metadata": {},
   "outputs": [],
   "source": [
    "C2_sales['EntryDate'] = pd.to_datetime(C2_sales['EntryDate'])"
   ]
  },
  {
   "cell_type": "code",
   "execution_count": null,
   "metadata": {},
   "outputs": [],
   "source": []
  },
  {
   "cell_type": "code",
   "execution_count": 32,
   "metadata": {},
   "outputs": [],
   "source": [
    "# only keeping StockCode and TotalLeadTime in lead time data\n",
    "\n",
    "C2_stock_lead =C2_stock_lead[['StockCode','TotalLeadTime']].reset_index(drop=True)"
   ]
  },
  {
   "cell_type": "code",
   "execution_count": 33,
   "metadata": {},
   "outputs": [
    {
     "data": {
      "text/plain": [
       "(64926, 21)"
      ]
     },
     "execution_count": 33,
     "metadata": {},
     "output_type": "execute_result"
    }
   ],
   "source": [
    "C2_sales.shape"
   ]
  },
  {
   "cell_type": "code",
   "execution_count": 34,
   "metadata": {},
   "outputs": [
    {
     "data": {
      "text/plain": [
       "(85711, 2)"
      ]
     },
     "execution_count": 34,
     "metadata": {},
     "output_type": "execute_result"
    }
   ],
   "source": [
    "C2_stock_lead.shape"
   ]
  },
  {
   "cell_type": "code",
   "execution_count": 35,
   "metadata": {},
   "outputs": [
    {
     "data": {
      "text/html": [
       "<div>\n",
       "<style scoped>\n",
       "    .dataframe tbody tr th:only-of-type {\n",
       "        vertical-align: middle;\n",
       "    }\n",
       "\n",
       "    .dataframe tbody tr th {\n",
       "        vertical-align: top;\n",
       "    }\n",
       "\n",
       "    .dataframe thead th {\n",
       "        text-align: right;\n",
       "    }\n",
       "</style>\n",
       "<table border=\"1\" class=\"dataframe\">\n",
       "  <thead>\n",
       "    <tr style=\"text-align: right;\">\n",
       "      <th></th>\n",
       "      <th>StockCode</th>\n",
       "      <th>TotalLeadTime</th>\n",
       "    </tr>\n",
       "  </thead>\n",
       "  <tbody>\n",
       "    <tr>\n",
       "      <th>0</th>\n",
       "      <td>.K6RTC</td>\n",
       "      <td>126</td>\n",
       "    </tr>\n",
       "    <tr>\n",
       "      <th>1</th>\n",
       "      <td>.K6TC</td>\n",
       "      <td>126</td>\n",
       "    </tr>\n",
       "    <tr>\n",
       "      <th>2</th>\n",
       "      <td>.K7TC</td>\n",
       "      <td>126</td>\n",
       "    </tr>\n",
       "    <tr>\n",
       "      <th>3</th>\n",
       "      <td>00-212-1923L-1</td>\n",
       "      <td>125</td>\n",
       "    </tr>\n",
       "    <tr>\n",
       "      <th>4</th>\n",
       "      <td>00-212-1923L-1</td>\n",
       "      <td>125</td>\n",
       "    </tr>\n",
       "  </tbody>\n",
       "</table>\n",
       "</div>"
      ],
      "text/plain": [
       "        StockCode  TotalLeadTime\n",
       "0          .K6RTC            126\n",
       "1           .K6TC            126\n",
       "2           .K7TC            126\n",
       "3  00-212-1923L-1            125\n",
       "4  00-212-1923L-1            125"
      ]
     },
     "execution_count": 35,
     "metadata": {},
     "output_type": "execute_result"
    }
   ],
   "source": [
    "C2_stock_lead.head()"
   ]
  },
  {
   "cell_type": "code",
   "execution_count": 36,
   "metadata": {},
   "outputs": [],
   "source": [
    "# for each unique stock code, calculate the average TotalLeadTime and maximum TotalLeadTime"
   ]
  },
  {
   "cell_type": "code",
   "execution_count": 37,
   "metadata": {},
   "outputs": [],
   "source": [
    "C2_mean = C2_stock_lead.groupby('StockCode')['TotalLeadTime'].mean()"
   ]
  },
  {
   "cell_type": "code",
   "execution_count": 38,
   "metadata": {},
   "outputs": [],
   "source": [
    "C2_max = C2_stock_lead.groupby('StockCode')['TotalLeadTime'].max()"
   ]
  },
  {
   "cell_type": "code",
   "execution_count": 39,
   "metadata": {},
   "outputs": [],
   "source": [
    "C2_stock_lead_meanmax = pd.concat([C2_mean,C2_max],axis = 1).reset_index()\n",
    "C2_stock_lead_meanmax.columns = ['StockCode','MeanTotalLeadTime','MaxTotalLeadTime']"
   ]
  },
  {
   "cell_type": "code",
   "execution_count": 40,
   "metadata": {},
   "outputs": [
    {
     "data": {
      "text/html": [
       "<div>\n",
       "<style scoped>\n",
       "    .dataframe tbody tr th:only-of-type {\n",
       "        vertical-align: middle;\n",
       "    }\n",
       "\n",
       "    .dataframe tbody tr th {\n",
       "        vertical-align: top;\n",
       "    }\n",
       "\n",
       "    .dataframe thead th {\n",
       "        text-align: right;\n",
       "    }\n",
       "</style>\n",
       "<table border=\"1\" class=\"dataframe\">\n",
       "  <thead>\n",
       "    <tr style=\"text-align: right;\">\n",
       "      <th></th>\n",
       "      <th>StockCode</th>\n",
       "      <th>MeanTotalLeadTime</th>\n",
       "      <th>MaxTotalLeadTime</th>\n",
       "    </tr>\n",
       "  </thead>\n",
       "  <tbody>\n",
       "    <tr>\n",
       "      <th>0</th>\n",
       "      <td>.K6RTC</td>\n",
       "      <td>126.0</td>\n",
       "      <td>126</td>\n",
       "    </tr>\n",
       "    <tr>\n",
       "      <th>1</th>\n",
       "      <td>.K6TC</td>\n",
       "      <td>126.0</td>\n",
       "      <td>126</td>\n",
       "    </tr>\n",
       "    <tr>\n",
       "      <th>2</th>\n",
       "      <td>.K7TC</td>\n",
       "      <td>126.0</td>\n",
       "      <td>126</td>\n",
       "    </tr>\n",
       "    <tr>\n",
       "      <th>3</th>\n",
       "      <td>00-212-1923L-1</td>\n",
       "      <td>125.0</td>\n",
       "      <td>125</td>\n",
       "    </tr>\n",
       "    <tr>\n",
       "      <th>4</th>\n",
       "      <td>00-212-1923R-1</td>\n",
       "      <td>125.0</td>\n",
       "      <td>125</td>\n",
       "    </tr>\n",
       "  </tbody>\n",
       "</table>\n",
       "</div>"
      ],
      "text/plain": [
       "        StockCode  MeanTotalLeadTime  MaxTotalLeadTime\n",
       "0          .K6RTC              126.0               126\n",
       "1           .K6TC              126.0               126\n",
       "2           .K7TC              126.0               126\n",
       "3  00-212-1923L-1              125.0               125\n",
       "4  00-212-1923R-1              125.0               125"
      ]
     },
     "execution_count": 40,
     "metadata": {},
     "output_type": "execute_result"
    }
   ],
   "source": [
    "C2_stock_lead_meanmax.head()"
   ]
  },
  {
   "cell_type": "code",
   "execution_count": 41,
   "metadata": {},
   "outputs": [
    {
     "data": {
      "text/plain": [
       "(41138, 3)"
      ]
     },
     "execution_count": 41,
     "metadata": {},
     "output_type": "execute_result"
    }
   ],
   "source": [
    "C2_stock_lead_meanmax.shape"
   ]
  },
  {
   "cell_type": "code",
   "execution_count": 42,
   "metadata": {},
   "outputs": [],
   "source": [
    "C2_sales_lead_time = C2_sales.merge(C2_stock_lead_meanmax,on = 'StockCode',how = 'left')"
   ]
  },
  {
   "cell_type": "code",
   "execution_count": 43,
   "metadata": {},
   "outputs": [
    {
     "data": {
      "text/plain": [
       "(24835, 23)"
      ]
     },
     "execution_count": 43,
     "metadata": {},
     "output_type": "execute_result"
    }
   ],
   "source": [
    "C2_sales_lead_time[C2_sales_lead_time.MeanTotalLeadTime < C2_sales_lead_time.MaxTotalLeadTime].shape"
   ]
  },
  {
   "cell_type": "code",
   "execution_count": 44,
   "metadata": {},
   "outputs": [
    {
     "data": {
      "text/html": [
       "<div>\n",
       "<style scoped>\n",
       "    .dataframe tbody tr th:only-of-type {\n",
       "        vertical-align: middle;\n",
       "    }\n",
       "\n",
       "    .dataframe tbody tr th {\n",
       "        vertical-align: top;\n",
       "    }\n",
       "\n",
       "    .dataframe thead th {\n",
       "        text-align: right;\n",
       "    }\n",
       "</style>\n",
       "<table border=\"1\" class=\"dataframe\">\n",
       "  <thead>\n",
       "    <tr style=\"text-align: right;\">\n",
       "      <th></th>\n",
       "      <th>StockCode</th>\n",
       "      <th>Warehouse</th>\n",
       "      <th>TrnYear</th>\n",
       "      <th>TrnMonth</th>\n",
       "      <th>EntryDate</th>\n",
       "      <th>TrnTime</th>\n",
       "      <th>MovementType</th>\n",
       "      <th>TrnQty</th>\n",
       "      <th>TrnValue</th>\n",
       "      <th>UnitCost</th>\n",
       "      <th>SalesOrder</th>\n",
       "      <th>Invoice</th>\n",
       "      <th>DocType</th>\n",
       "      <th>Customer</th>\n",
       "      <th>CostValue</th>\n",
       "      <th>Branch</th>\n",
       "      <th>Salesperson</th>\n",
       "      <th>SalesBin</th>\n",
       "      <th>CustomerPoNumber</th>\n",
       "      <th>ProductClass</th>\n",
       "      <th>DateInfoPulled</th>\n",
       "      <th>MeanTotalLeadTime</th>\n",
       "      <th>MaxTotalLeadTime</th>\n",
       "    </tr>\n",
       "  </thead>\n",
       "  <tbody>\n",
       "    <tr>\n",
       "      <th>0</th>\n",
       "      <td>231-1952R-AE</td>\n",
       "      <td>C2</td>\n",
       "      <td>2017</td>\n",
       "      <td>8</td>\n",
       "      <td>2016-10-11</td>\n",
       "      <td>10002386</td>\n",
       "      <td>S</td>\n",
       "      <td>1</td>\n",
       "      <td>1156.0</td>\n",
       "      <td>551.52321</td>\n",
       "      <td>OC10043213</td>\n",
       "      <td>IC10038432</td>\n",
       "      <td>I</td>\n",
       "      <td>CSTA200</td>\n",
       "      <td>551.52</td>\n",
       "      <td>C1</td>\n",
       "      <td>C29</td>\n",
       "      <td>C13B04</td>\n",
       "      <td>22150</td>\n",
       "      <td>TLR</td>\n",
       "      <td>2019-10-11</td>\n",
       "      <td>125.0</td>\n",
       "      <td>125.0</td>\n",
       "    </tr>\n",
       "    <tr>\n",
       "      <th>1</th>\n",
       "      <td>AF50001</td>\n",
       "      <td>C2</td>\n",
       "      <td>2017</td>\n",
       "      <td>8</td>\n",
       "      <td>2016-10-11</td>\n",
       "      <td>10015142</td>\n",
       "      <td>S</td>\n",
       "      <td>1</td>\n",
       "      <td>33.0</td>\n",
       "      <td>19.89982</td>\n",
       "      <td>OC10043182</td>\n",
       "      <td>IC10038435</td>\n",
       "      <td>I</td>\n",
       "      <td>CL&amp;Z010</td>\n",
       "      <td>19.90</td>\n",
       "      <td>C1</td>\n",
       "      <td>C09</td>\n",
       "      <td>A14A10</td>\n",
       "      <td>MR.LEE</td>\n",
       "      <td>ANT</td>\n",
       "      <td>2019-10-11</td>\n",
       "      <td>10.0</td>\n",
       "      <td>10.0</td>\n",
       "    </tr>\n",
       "    <tr>\n",
       "      <th>2</th>\n",
       "      <td>RDTA0080</td>\n",
       "      <td>C2</td>\n",
       "      <td>2017</td>\n",
       "      <td>8</td>\n",
       "      <td>2016-10-11</td>\n",
       "      <td>10015206</td>\n",
       "      <td>S</td>\n",
       "      <td>1</td>\n",
       "      <td>471.0</td>\n",
       "      <td>390.23685</td>\n",
       "      <td>OC10043182</td>\n",
       "      <td>IC10038435</td>\n",
       "      <td>I</td>\n",
       "      <td>CL&amp;Z010</td>\n",
       "      <td>390.24</td>\n",
       "      <td>C1</td>\n",
       "      <td>C09</td>\n",
       "      <td>BBKC01</td>\n",
       "      <td>MR.LEE</td>\n",
       "      <td>RD</td>\n",
       "      <td>2019-10-11</td>\n",
       "      <td>94.0</td>\n",
       "      <td>99.0</td>\n",
       "    </tr>\n",
       "    <tr>\n",
       "      <th>3</th>\n",
       "      <td>BD616</td>\n",
       "      <td>C2</td>\n",
       "      <td>2017</td>\n",
       "      <td>8</td>\n",
       "      <td>2016-10-11</td>\n",
       "      <td>10021666</td>\n",
       "      <td>S</td>\n",
       "      <td>3</td>\n",
       "      <td>255.0</td>\n",
       "      <td>77.98454</td>\n",
       "      <td>OC10043192</td>\n",
       "      <td>IC10038436</td>\n",
       "      <td>I</td>\n",
       "      <td>CDJW010</td>\n",
       "      <td>233.95</td>\n",
       "      <td>C1</td>\n",
       "      <td>C24</td>\n",
       "      <td>A06B08</td>\n",
       "      <td>DEAN</td>\n",
       "      <td>BDDF</td>\n",
       "      <td>2019-10-11</td>\n",
       "      <td>114.0</td>\n",
       "      <td>114.0</td>\n",
       "    </tr>\n",
       "    <tr>\n",
       "      <th>4</th>\n",
       "      <td>BD518</td>\n",
       "      <td>C2</td>\n",
       "      <td>2017</td>\n",
       "      <td>8</td>\n",
       "      <td>2016-10-11</td>\n",
       "      <td>10021737</td>\n",
       "      <td>S</td>\n",
       "      <td>3</td>\n",
       "      <td>264.0</td>\n",
       "      <td>81.50125</td>\n",
       "      <td>OC10043192</td>\n",
       "      <td>IC10038436</td>\n",
       "      <td>I</td>\n",
       "      <td>CDJW010</td>\n",
       "      <td>244.50</td>\n",
       "      <td>C1</td>\n",
       "      <td>C24</td>\n",
       "      <td>A06B05</td>\n",
       "      <td>DEAN</td>\n",
       "      <td>BDDF</td>\n",
       "      <td>2019-10-11</td>\n",
       "      <td>114.0</td>\n",
       "      <td>114.0</td>\n",
       "    </tr>\n",
       "  </tbody>\n",
       "</table>\n",
       "</div>"
      ],
      "text/plain": [
       "      StockCode Warehouse  TrnYear  TrnMonth  EntryDate   TrnTime  \\\n",
       "0  231-1952R-AE        C2     2017         8 2016-10-11  10002386   \n",
       "1       AF50001        C2     2017         8 2016-10-11  10015142   \n",
       "2      RDTA0080        C2     2017         8 2016-10-11  10015206   \n",
       "3         BD616        C2     2017         8 2016-10-11  10021666   \n",
       "4         BD518        C2     2017         8 2016-10-11  10021737   \n",
       "\n",
       "  MovementType  TrnQty  TrnValue   UnitCost  SalesOrder     Invoice DocType  \\\n",
       "0            S       1    1156.0  551.52321  OC10043213  IC10038432       I   \n",
       "1            S       1      33.0   19.89982  OC10043182  IC10038435       I   \n",
       "2            S       1     471.0  390.23685  OC10043182  IC10038435       I   \n",
       "3            S       3     255.0   77.98454  OC10043192  IC10038436       I   \n",
       "4            S       3     264.0   81.50125  OC10043192  IC10038436       I   \n",
       "\n",
       "  Customer  CostValue Branch Salesperson SalesBin CustomerPoNumber  \\\n",
       "0  CSTA200     551.52     C1         C29   C13B04            22150   \n",
       "1  CL&Z010      19.90     C1         C09   A14A10           MR.LEE   \n",
       "2  CL&Z010     390.24     C1         C09   BBKC01           MR.LEE   \n",
       "3  CDJW010     233.95     C1         C24   A06B08             DEAN   \n",
       "4  CDJW010     244.50     C1         C24   A06B05             DEAN   \n",
       "\n",
       "  ProductClass DateInfoPulled  MeanTotalLeadTime  MaxTotalLeadTime  \n",
       "0          TLR     2019-10-11              125.0             125.0  \n",
       "1          ANT     2019-10-11               10.0              10.0  \n",
       "2           RD     2019-10-11               94.0              99.0  \n",
       "3         BDDF     2019-10-11              114.0             114.0  \n",
       "4         BDDF     2019-10-11              114.0             114.0  "
      ]
     },
     "execution_count": 44,
     "metadata": {},
     "output_type": "execute_result"
    }
   ],
   "source": [
    "C2_sales_lead_time.head()"
   ]
  },
  {
   "cell_type": "code",
   "execution_count": 45,
   "metadata": {},
   "outputs": [
    {
     "data": {
      "text/plain": [
       "(59484, 23)"
      ]
     },
     "execution_count": 45,
     "metadata": {},
     "output_type": "execute_result"
    }
   ],
   "source": [
    "# positive TrnQty - invoice\n",
    "\n",
    "C2_sales_lead_time[C2_sales_lead_time.TrnQty > 0].shape"
   ]
  },
  {
   "cell_type": "code",
   "execution_count": 48,
   "metadata": {},
   "outputs": [],
   "source": [
    "C2_TrnQty_sum = C2_sales_lead_time[C2_sales_lead_time.TrnQty > 0].groupby('StockCode')['TrnQty'].sum()"
   ]
  },
  {
   "cell_type": "code",
   "execution_count": 49,
   "metadata": {},
   "outputs": [],
   "source": [
    "C2_TrnQty_timerange = C2_sales_lead_time[C2_sales_lead_time.TrnQty > 0].groupby(\n",
    "    'StockCode')['EntryDate'].apply(lambda x: x.iloc[-1] - x.iloc[0])"
   ]
  },
  {
   "cell_type": "code",
   "execution_count": 50,
   "metadata": {},
   "outputs": [],
   "source": [
    "C2_TrnQty_max = C2_sales_lead_time[C2_sales_lead_time.TrnQty > 0].groupby('StockCode')['TrnQty'].max()"
   ]
  },
  {
   "cell_type": "code",
   "execution_count": 51,
   "metadata": {},
   "outputs": [],
   "source": [
    "C2_stock_TrnQty_meanmax = pd.concat([C2_TrnQty_sum,C2_TrnQty_timerange,C2_TrnQty_max],axis = 1).reset_index()\n",
    "C2_stock_TrnQty_meanmax.columns = ['StockCode','SumTrnQty','timerange','MaxTrnQty']"
   ]
  },
  {
   "cell_type": "code",
   "execution_count": 55,
   "metadata": {},
   "outputs": [
    {
     "data": {
      "text/plain": [
       "StockCode             object\n",
       "SumTrnQty              int64\n",
       "timerange    timedelta64[ns]\n",
       "MaxTrnQty              int64\n",
       "dtype: object"
      ]
     },
     "execution_count": 55,
     "metadata": {},
     "output_type": "execute_result"
    }
   ],
   "source": [
    "C2_stock_TrnQty_meanmax.dtypes"
   ]
  },
  {
   "cell_type": "code",
   "execution_count": 58,
   "metadata": {},
   "outputs": [],
   "source": [
    "C2_stock_TrnQty_meanmax.timerange = C2_stock_TrnQty_meanmax.timerange.dt.days"
   ]
  },
  {
   "cell_type": "code",
   "execution_count": 59,
   "metadata": {},
   "outputs": [],
   "source": [
    "def calc_mean(df):\n",
    "    if df['timerange'] == 0:\n",
    "        df['MeanTrnQty'] = df['SumTrnQty']\n",
    "    else:\n",
    "        df['MeanTrnQty'] = df['SumTrnQty'] / df['timerange']"
   ]
  },
  {
   "cell_type": "code",
   "execution_count": 61,
   "metadata": {},
   "outputs": [],
   "source": [
    "C2_stock_TrnQty_meanmax['MeanTrnQty'] = C2_stock_TrnQty_meanmax['SumTrnQty'] / C2_stock_TrnQty_meanmax['timerange']"
   ]
  },
  {
   "cell_type": "code",
   "execution_count": 64,
   "metadata": {},
   "outputs": [],
   "source": [
    "C2_stock_TrnQty_meanmax.loc[C2_stock_TrnQty_meanmax['MeanTrnQty'] == np.inf,'MeanTrnQty'] = C2_stock_TrnQty_meanmax.SumTrnQty"
   ]
  },
  {
   "cell_type": "code",
   "execution_count": 66,
   "metadata": {},
   "outputs": [
    {
     "data": {
      "text/plain": [
       "(10544, 5)"
      ]
     },
     "execution_count": 66,
     "metadata": {},
     "output_type": "execute_result"
    }
   ],
   "source": [
    "C2_stock_TrnQty_meanmax.shape"
   ]
  },
  {
   "cell_type": "code",
   "execution_count": 67,
   "metadata": {},
   "outputs": [],
   "source": [
    "C2_TrnQty_leadtime = C2_stock_TrnQty_meanmax.merge(C2_stock_lead_meanmax, on='StockCode',how='left')"
   ]
  },
  {
   "cell_type": "code",
   "execution_count": 68,
   "metadata": {},
   "outputs": [
    {
     "data": {
      "text/html": [
       "<div>\n",
       "<style scoped>\n",
       "    .dataframe tbody tr th:only-of-type {\n",
       "        vertical-align: middle;\n",
       "    }\n",
       "\n",
       "    .dataframe tbody tr th {\n",
       "        vertical-align: top;\n",
       "    }\n",
       "\n",
       "    .dataframe thead th {\n",
       "        text-align: right;\n",
       "    }\n",
       "</style>\n",
       "<table border=\"1\" class=\"dataframe\">\n",
       "  <thead>\n",
       "    <tr style=\"text-align: right;\">\n",
       "      <th></th>\n",
       "      <th>StockCode</th>\n",
       "      <th>SumTrnQty</th>\n",
       "      <th>timerange</th>\n",
       "      <th>MaxTrnQty</th>\n",
       "      <th>MeanTrnQty</th>\n",
       "      <th>MeanTotalLeadTime</th>\n",
       "      <th>MaxTotalLeadTime</th>\n",
       "    </tr>\n",
       "  </thead>\n",
       "  <tbody>\n",
       "    <tr>\n",
       "      <th>0</th>\n",
       "      <td>.K6TC</td>\n",
       "      <td>61</td>\n",
       "      <td>137</td>\n",
       "      <td>10</td>\n",
       "      <td>0.445255</td>\n",
       "      <td>126.0</td>\n",
       "      <td>126.0</td>\n",
       "    </tr>\n",
       "    <tr>\n",
       "      <th>1</th>\n",
       "      <td>00-212-1957L-E</td>\n",
       "      <td>10</td>\n",
       "      <td>72</td>\n",
       "      <td>4</td>\n",
       "      <td>0.138889</td>\n",
       "      <td>125.0</td>\n",
       "      <td>125.0</td>\n",
       "    </tr>\n",
       "    <tr>\n",
       "      <th>2</th>\n",
       "      <td>00-212-1960L-E</td>\n",
       "      <td>12</td>\n",
       "      <td>69</td>\n",
       "      <td>3</td>\n",
       "      <td>0.173913</td>\n",
       "      <td>125.0</td>\n",
       "      <td>125.0</td>\n",
       "    </tr>\n",
       "    <tr>\n",
       "      <th>3</th>\n",
       "      <td>00-212-1960R-E</td>\n",
       "      <td>16</td>\n",
       "      <td>69</td>\n",
       "      <td>5</td>\n",
       "      <td>0.231884</td>\n",
       "      <td>125.0</td>\n",
       "      <td>125.0</td>\n",
       "    </tr>\n",
       "    <tr>\n",
       "      <th>4</th>\n",
       "      <td>00-213-1910L-E</td>\n",
       "      <td>170</td>\n",
       "      <td>126</td>\n",
       "      <td>28</td>\n",
       "      <td>1.349206</td>\n",
       "      <td>125.0</td>\n",
       "      <td>125.0</td>\n",
       "    </tr>\n",
       "  </tbody>\n",
       "</table>\n",
       "</div>"
      ],
      "text/plain": [
       "        StockCode  SumTrnQty  timerange  MaxTrnQty  MeanTrnQty  \\\n",
       "0           .K6TC         61        137         10    0.445255   \n",
       "1  00-212-1957L-E         10         72          4    0.138889   \n",
       "2  00-212-1960L-E         12         69          3    0.173913   \n",
       "3  00-212-1960R-E         16         69          5    0.231884   \n",
       "4  00-213-1910L-E        170        126         28    1.349206   \n",
       "\n",
       "   MeanTotalLeadTime  MaxTotalLeadTime  \n",
       "0              126.0             126.0  \n",
       "1              125.0             125.0  \n",
       "2              125.0             125.0  \n",
       "3              125.0             125.0  \n",
       "4              125.0             125.0  "
      ]
     },
     "execution_count": 68,
     "metadata": {},
     "output_type": "execute_result"
    }
   ],
   "source": [
    "C2_TrnQty_leadtime.head()"
   ]
  },
  {
   "cell_type": "code",
   "execution_count": 69,
   "metadata": {},
   "outputs": [
    {
     "data": {
      "text/plain": [
       "False    8575\n",
       "True     1969\n",
       "Name: MeanTotalLeadTime, dtype: int64"
      ]
     },
     "execution_count": 69,
     "metadata": {},
     "output_type": "execute_result"
    }
   ],
   "source": [
    "# 1969 entries cannot find matching stock code in C2 Stock Lead data\n",
    "# need to check their supplier and find the matching supplier's default lead time\n",
    "\n",
    "C2_TrnQty_leadtime.MeanTotalLeadTime.isnull().value_counts()"
   ]
  },
  {
   "cell_type": "code",
   "execution_count": null,
   "metadata": {},
   "outputs": [],
   "source": []
  },
  {
   "cell_type": "code",
   "execution_count": 70,
   "metadata": {},
   "outputs": [
    {
     "data": {
      "text/plain": [
       "(3540, 7)"
      ]
     },
     "execution_count": 70,
     "metadata": {},
     "output_type": "execute_result"
    }
   ],
   "source": [
    "C2_TrnQty_leadtime[C2_TrnQty_leadtime.MeanTotalLeadTime < C2_TrnQty_leadtime.MaxTotalLeadTime].shape"
   ]
  },
  {
   "cell_type": "code",
   "execution_count": 71,
   "metadata": {},
   "outputs": [
    {
     "data": {
      "text/plain": [
       "(6212, 7)"
      ]
     },
     "execution_count": 71,
     "metadata": {},
     "output_type": "execute_result"
    }
   ],
   "source": [
    "C2_TrnQty_leadtime[C2_TrnQty_leadtime.MeanTrnQty < C2_TrnQty_leadtime.MaxTrnQty].shape"
   ]
  },
  {
   "cell_type": "code",
   "execution_count": 72,
   "metadata": {},
   "outputs": [
    {
     "data": {
      "text/plain": [
       "(6519, 7)"
      ]
     },
     "execution_count": 72,
     "metadata": {},
     "output_type": "execute_result"
    }
   ],
   "source": [
    "C2_TrnQty_leadtime[C2_TrnQty_leadtime.MeanTrnQty * C2_TrnQty_leadtime.MeanTotalLeadTime\n",
    "                   < C2_TrnQty_leadtime.MaxTrnQty * C2_TrnQty_leadtime.MaxTotalLeadTime].shape"
   ]
  },
  {
   "cell_type": "code",
   "execution_count": 73,
   "metadata": {},
   "outputs": [],
   "source": [
    "C2_TrnQty_leadtime['BufferStock'] = (C2_TrnQty_leadtime.MaxTrnQty * C2_TrnQty_leadtime.MaxTotalLeadTime) - (\n",
    "    C2_TrnQty_leadtime.MeanTrnQty * C2_TrnQty_leadtime.MeanTotalLeadTime)\n",
    "        "
   ]
  },
  {
   "cell_type": "code",
   "execution_count": 74,
   "metadata": {},
   "outputs": [
    {
     "data": {
      "text/plain": [
       "(10544, 8)"
      ]
     },
     "execution_count": 74,
     "metadata": {},
     "output_type": "execute_result"
    }
   ],
   "source": [
    "C2_TrnQty_leadtime.shape"
   ]
  },
  {
   "cell_type": "code",
   "execution_count": 75,
   "metadata": {},
   "outputs": [
    {
     "data": {
      "text/html": [
       "<div>\n",
       "<style scoped>\n",
       "    .dataframe tbody tr th:only-of-type {\n",
       "        vertical-align: middle;\n",
       "    }\n",
       "\n",
       "    .dataframe tbody tr th {\n",
       "        vertical-align: top;\n",
       "    }\n",
       "\n",
       "    .dataframe thead th {\n",
       "        text-align: right;\n",
       "    }\n",
       "</style>\n",
       "<table border=\"1\" class=\"dataframe\">\n",
       "  <thead>\n",
       "    <tr style=\"text-align: right;\">\n",
       "      <th></th>\n",
       "      <th>StockCode</th>\n",
       "      <th>SumTrnQty</th>\n",
       "      <th>timerange</th>\n",
       "      <th>MaxTrnQty</th>\n",
       "      <th>MeanTrnQty</th>\n",
       "      <th>MeanTotalLeadTime</th>\n",
       "      <th>MaxTotalLeadTime</th>\n",
       "      <th>BufferStock</th>\n",
       "    </tr>\n",
       "  </thead>\n",
       "  <tbody>\n",
       "    <tr>\n",
       "      <th>0</th>\n",
       "      <td>.K6TC</td>\n",
       "      <td>61</td>\n",
       "      <td>137</td>\n",
       "      <td>10</td>\n",
       "      <td>0.445255</td>\n",
       "      <td>126.0</td>\n",
       "      <td>126.0</td>\n",
       "      <td>1203.897810</td>\n",
       "    </tr>\n",
       "    <tr>\n",
       "      <th>1</th>\n",
       "      <td>00-212-1957L-E</td>\n",
       "      <td>10</td>\n",
       "      <td>72</td>\n",
       "      <td>4</td>\n",
       "      <td>0.138889</td>\n",
       "      <td>125.0</td>\n",
       "      <td>125.0</td>\n",
       "      <td>482.638889</td>\n",
       "    </tr>\n",
       "    <tr>\n",
       "      <th>2</th>\n",
       "      <td>00-212-1960L-E</td>\n",
       "      <td>12</td>\n",
       "      <td>69</td>\n",
       "      <td>3</td>\n",
       "      <td>0.173913</td>\n",
       "      <td>125.0</td>\n",
       "      <td>125.0</td>\n",
       "      <td>353.260870</td>\n",
       "    </tr>\n",
       "    <tr>\n",
       "      <th>3</th>\n",
       "      <td>00-212-1960R-E</td>\n",
       "      <td>16</td>\n",
       "      <td>69</td>\n",
       "      <td>5</td>\n",
       "      <td>0.231884</td>\n",
       "      <td>125.0</td>\n",
       "      <td>125.0</td>\n",
       "      <td>596.014493</td>\n",
       "    </tr>\n",
       "    <tr>\n",
       "      <th>4</th>\n",
       "      <td>00-213-1910L-E</td>\n",
       "      <td>170</td>\n",
       "      <td>126</td>\n",
       "      <td>28</td>\n",
       "      <td>1.349206</td>\n",
       "      <td>125.0</td>\n",
       "      <td>125.0</td>\n",
       "      <td>3331.349206</td>\n",
       "    </tr>\n",
       "  </tbody>\n",
       "</table>\n",
       "</div>"
      ],
      "text/plain": [
       "        StockCode  SumTrnQty  timerange  MaxTrnQty  MeanTrnQty  \\\n",
       "0           .K6TC         61        137         10    0.445255   \n",
       "1  00-212-1957L-E         10         72          4    0.138889   \n",
       "2  00-212-1960L-E         12         69          3    0.173913   \n",
       "3  00-212-1960R-E         16         69          5    0.231884   \n",
       "4  00-213-1910L-E        170        126         28    1.349206   \n",
       "\n",
       "   MeanTotalLeadTime  MaxTotalLeadTime  BufferStock  \n",
       "0              126.0             126.0  1203.897810  \n",
       "1              125.0             125.0   482.638889  \n",
       "2              125.0             125.0   353.260870  \n",
       "3              125.0             125.0   596.014493  \n",
       "4              125.0             125.0  3331.349206  "
      ]
     },
     "execution_count": 75,
     "metadata": {},
     "output_type": "execute_result"
    }
   ],
   "source": [
    "C2_TrnQty_leadtime.head()"
   ]
  },
  {
   "cell_type": "code",
   "execution_count": null,
   "metadata": {},
   "outputs": [],
   "source": []
  },
  {
   "cell_type": "code",
   "execution_count": 76,
   "metadata": {},
   "outputs": [
    {
     "data": {
      "text/plain": [
       "-252.0"
      ]
     },
     "execution_count": 76,
     "metadata": {},
     "output_type": "execute_result"
    }
   ],
   "source": [
    "C2_TrnQty_leadtime.BufferStock.min()"
   ]
  },
  {
   "cell_type": "code",
   "execution_count": 77,
   "metadata": {},
   "outputs": [
    {
     "data": {
      "text/plain": [
       "16768.59813084112"
      ]
     },
     "execution_count": 77,
     "metadata": {},
     "output_type": "execute_result"
    }
   ],
   "source": [
    "C2_TrnQty_leadtime.BufferStock.max()"
   ]
  },
  {
   "cell_type": "code",
   "execution_count": 78,
   "metadata": {},
   "outputs": [
    {
     "data": {
      "text/plain": [
       "1.5"
      ]
     },
     "execution_count": 78,
     "metadata": {},
     "output_type": "execute_result"
    }
   ],
   "source": [
    "C2_TrnQty_leadtime.BufferStock.quantile(0.25)"
   ]
  },
  {
   "cell_type": "code",
   "execution_count": 79,
   "metadata": {},
   "outputs": [
    {
     "data": {
      "text/plain": [
       "90.09"
      ]
     },
     "execution_count": 79,
     "metadata": {},
     "output_type": "execute_result"
    }
   ],
   "source": [
    "C2_TrnQty_leadtime.BufferStock.median()"
   ]
  },
  {
   "cell_type": "code",
   "execution_count": 80,
   "metadata": {},
   "outputs": [
    {
     "data": {
      "text/plain": [
       "189.43830275229357"
      ]
     },
     "execution_count": 80,
     "metadata": {},
     "output_type": "execute_result"
    }
   ],
   "source": [
    "C2_TrnQty_leadtime.BufferStock.quantile(0.75)"
   ]
  },
  {
   "cell_type": "code",
   "execution_count": null,
   "metadata": {},
   "outputs": [],
   "source": [
    "# a lot of stocks have small order history (pickcounts) \n",
    "# so the same max and mean value for TrnQty and leadtime for these stocks are about the same\n",
    "# the bufferstock calculated for these stocks are unresonably small and thus might be biased \n"
   ]
  },
  {
   "cell_type": "code",
   "execution_count": 81,
   "metadata": {},
   "outputs": [
    {
     "data": {
      "text/html": [
       "<div>\n",
       "<style scoped>\n",
       "    .dataframe tbody tr th:only-of-type {\n",
       "        vertical-align: middle;\n",
       "    }\n",
       "\n",
       "    .dataframe tbody tr th {\n",
       "        vertical-align: top;\n",
       "    }\n",
       "\n",
       "    .dataframe thead th {\n",
       "        text-align: right;\n",
       "    }\n",
       "</style>\n",
       "<table border=\"1\" class=\"dataframe\">\n",
       "  <thead>\n",
       "    <tr style=\"text-align: right;\">\n",
       "      <th></th>\n",
       "      <th>StockCode</th>\n",
       "      <th>SumTrnQty</th>\n",
       "      <th>timerange</th>\n",
       "      <th>MaxTrnQty</th>\n",
       "      <th>MeanTrnQty</th>\n",
       "      <th>MeanTotalLeadTime</th>\n",
       "      <th>MaxTotalLeadTime</th>\n",
       "      <th>BufferStock</th>\n",
       "    </tr>\n",
       "  </thead>\n",
       "  <tbody>\n",
       "    <tr>\n",
       "      <th>82</th>\n",
       "      <td>12342PROQC1</td>\n",
       "      <td>4392</td>\n",
       "      <td>107</td>\n",
       "      <td>600</td>\n",
       "      <td>41.046729</td>\n",
       "      <td>30.0</td>\n",
       "      <td>30.0</td>\n",
       "      <td>16768.598131</td>\n",
       "    </tr>\n",
       "    <tr>\n",
       "      <th>119</th>\n",
       "      <td>12972PROQC1</td>\n",
       "      <td>4115</td>\n",
       "      <td>134</td>\n",
       "      <td>500</td>\n",
       "      <td>30.708955</td>\n",
       "      <td>30.0</td>\n",
       "      <td>30.0</td>\n",
       "      <td>14078.731343</td>\n",
       "    </tr>\n",
       "    <tr>\n",
       "      <th>909</th>\n",
       "      <td>3006160</td>\n",
       "      <td>2258</td>\n",
       "      <td>62</td>\n",
       "      <td>500</td>\n",
       "      <td>36.419355</td>\n",
       "      <td>30.0</td>\n",
       "      <td>30.0</td>\n",
       "      <td>13907.419355</td>\n",
       "    </tr>\n",
       "    <tr>\n",
       "      <th>5066</th>\n",
       "      <td>HUFD0210</td>\n",
       "      <td>112</td>\n",
       "      <td>86</td>\n",
       "      <td>74</td>\n",
       "      <td>1.302326</td>\n",
       "      <td>133.5</td>\n",
       "      <td>186.0</td>\n",
       "      <td>13590.139535</td>\n",
       "    </tr>\n",
       "    <tr>\n",
       "      <th>156</th>\n",
       "      <td>212-11B9L-RD-E2</td>\n",
       "      <td>383</td>\n",
       "      <td>138</td>\n",
       "      <td>100</td>\n",
       "      <td>2.775362</td>\n",
       "      <td>125.0</td>\n",
       "      <td>125.0</td>\n",
       "      <td>12153.079710</td>\n",
       "    </tr>\n",
       "    <tr>\n",
       "      <th>910</th>\n",
       "      <td>3009260</td>\n",
       "      <td>910</td>\n",
       "      <td>55</td>\n",
       "      <td>390</td>\n",
       "      <td>16.545455</td>\n",
       "      <td>30.0</td>\n",
       "      <td>30.0</td>\n",
       "      <td>11203.636364</td>\n",
       "    </tr>\n",
       "    <tr>\n",
       "      <th>2389</th>\n",
       "      <td>BD518</td>\n",
       "      <td>962</td>\n",
       "      <td>136</td>\n",
       "      <td>100</td>\n",
       "      <td>7.073529</td>\n",
       "      <td>114.0</td>\n",
       "      <td>114.0</td>\n",
       "      <td>10593.617647</td>\n",
       "    </tr>\n",
       "    <tr>\n",
       "      <th>3768</th>\n",
       "      <td>CVTO1010</td>\n",
       "      <td>1428</td>\n",
       "      <td>140</td>\n",
       "      <td>100</td>\n",
       "      <td>10.200000</td>\n",
       "      <td>93.5</td>\n",
       "      <td>96.0</td>\n",
       "      <td>8646.300000</td>\n",
       "    </tr>\n",
       "    <tr>\n",
       "      <th>5070</th>\n",
       "      <td>HUMZ0040</td>\n",
       "      <td>182</td>\n",
       "      <td>140</td>\n",
       "      <td>40</td>\n",
       "      <td>1.300000</td>\n",
       "      <td>133.5</td>\n",
       "      <td>186.0</td>\n",
       "      <td>7266.450000</td>\n",
       "    </tr>\n",
       "    <tr>\n",
       "      <th>1399</th>\n",
       "      <td>442-1945R-UE</td>\n",
       "      <td>292</td>\n",
       "      <td>139</td>\n",
       "      <td>50</td>\n",
       "      <td>2.100719</td>\n",
       "      <td>125.0</td>\n",
       "      <td>125.0</td>\n",
       "      <td>5987.410072</td>\n",
       "    </tr>\n",
       "  </tbody>\n",
       "</table>\n",
       "</div>"
      ],
      "text/plain": [
       "            StockCode  SumTrnQty  timerange  MaxTrnQty  MeanTrnQty  \\\n",
       "82        12342PROQC1       4392        107        600   41.046729   \n",
       "119       12972PROQC1       4115        134        500   30.708955   \n",
       "909           3006160       2258         62        500   36.419355   \n",
       "5066         HUFD0210        112         86         74    1.302326   \n",
       "156   212-11B9L-RD-E2        383        138        100    2.775362   \n",
       "910           3009260        910         55        390   16.545455   \n",
       "2389            BD518        962        136        100    7.073529   \n",
       "3768         CVTO1010       1428        140        100   10.200000   \n",
       "5070         HUMZ0040        182        140         40    1.300000   \n",
       "1399     442-1945R-UE        292        139         50    2.100719   \n",
       "\n",
       "      MeanTotalLeadTime  MaxTotalLeadTime   BufferStock  \n",
       "82                 30.0              30.0  16768.598131  \n",
       "119                30.0              30.0  14078.731343  \n",
       "909                30.0              30.0  13907.419355  \n",
       "5066              133.5             186.0  13590.139535  \n",
       "156               125.0             125.0  12153.079710  \n",
       "910                30.0              30.0  11203.636364  \n",
       "2389              114.0             114.0  10593.617647  \n",
       "3768               93.5              96.0   8646.300000  \n",
       "5070              133.5             186.0   7266.450000  \n",
       "1399              125.0             125.0   5987.410072  "
      ]
     },
     "execution_count": 81,
     "metadata": {},
     "output_type": "execute_result"
    }
   ],
   "source": [
    "C2_TrnQty_leadtime.sort_values('BufferStock',ascending = False).head(10)"
   ]
  },
  {
   "cell_type": "code",
   "execution_count": null,
   "metadata": {},
   "outputs": [],
   "source": [
    "# find the pick counts for each StockCode and merge them with the above table"
   ]
  },
  {
   "cell_type": "code",
   "execution_count": 82,
   "metadata": {},
   "outputs": [],
   "source": [
    "pick_count = C2_sales[['StockCode','Warehouse']].groupby('StockCode',as_index = False).count().rename(\n",
    "    {'Warehouse':'PickCounts'},axis = 1)"
   ]
  },
  {
   "cell_type": "code",
   "execution_count": 83,
   "metadata": {},
   "outputs": [],
   "source": [
    "C2_TrnQty_leadtime = C2_TrnQty_leadtime.merge(pick_count, on='StockCode',how='left')"
   ]
  },
  {
   "cell_type": "code",
   "execution_count": null,
   "metadata": {},
   "outputs": [],
   "source": []
  },
  {
   "cell_type": "code",
   "execution_count": 84,
   "metadata": {},
   "outputs": [],
   "source": [
    "# the stockcodes that have large PickCounts (number of orders) \n",
    "# generally have a reasonal bufferstock"
   ]
  },
  {
   "cell_type": "code",
   "execution_count": 89,
   "metadata": {},
   "outputs": [
    {
     "data": {
      "text/plain": [
       "True    200\n",
       "Name: BufferStock, dtype: int64"
      ]
     },
     "execution_count": 89,
     "metadata": {},
     "output_type": "execute_result"
    }
   ],
   "source": [
    "(C2_TrnQty_leadtime.sort_values('PickCounts',ascending = False).dropna(\n",
    "    how='any').head(200).BufferStock > 70).value_counts()"
   ]
  },
  {
   "cell_type": "code",
   "execution_count": 90,
   "metadata": {},
   "outputs": [
    {
     "data": {
      "text/html": [
       "<div>\n",
       "<style scoped>\n",
       "    .dataframe tbody tr th:only-of-type {\n",
       "        vertical-align: middle;\n",
       "    }\n",
       "\n",
       "    .dataframe tbody tr th {\n",
       "        vertical-align: top;\n",
       "    }\n",
       "\n",
       "    .dataframe thead th {\n",
       "        text-align: right;\n",
       "    }\n",
       "</style>\n",
       "<table border=\"1\" class=\"dataframe\">\n",
       "  <thead>\n",
       "    <tr style=\"text-align: right;\">\n",
       "      <th></th>\n",
       "      <th>StockCode</th>\n",
       "      <th>SumTrnQty</th>\n",
       "      <th>timerange</th>\n",
       "      <th>MaxTrnQty</th>\n",
       "      <th>MeanTrnQty</th>\n",
       "      <th>MeanTotalLeadTime</th>\n",
       "      <th>MaxTotalLeadTime</th>\n",
       "      <th>BufferStock</th>\n",
       "      <th>PickCounts</th>\n",
       "    </tr>\n",
       "  </thead>\n",
       "  <tbody>\n",
       "    <tr>\n",
       "      <th>6705</th>\n",
       "      <td>RDTA0080</td>\n",
       "      <td>765</td>\n",
       "      <td>140</td>\n",
       "      <td>50</td>\n",
       "      <td>5.464286</td>\n",
       "      <td>94.000000</td>\n",
       "      <td>99.0</td>\n",
       "      <td>4436.357143</td>\n",
       "      <td>309</td>\n",
       "    </tr>\n",
       "    <tr>\n",
       "      <th>3770</th>\n",
       "      <td>CVTO1010ZZ</td>\n",
       "      <td>1290</td>\n",
       "      <td>140</td>\n",
       "      <td>50</td>\n",
       "      <td>9.214286</td>\n",
       "      <td>99.333333</td>\n",
       "      <td>111.0</td>\n",
       "      <td>4634.714286</td>\n",
       "      <td>209</td>\n",
       "    </tr>\n",
       "    <tr>\n",
       "      <th>6790</th>\n",
       "      <td>RDVW0010</td>\n",
       "      <td>497</td>\n",
       "      <td>140</td>\n",
       "      <td>50</td>\n",
       "      <td>3.550000</td>\n",
       "      <td>91.500000</td>\n",
       "      <td>96.0</td>\n",
       "      <td>4475.175000</td>\n",
       "      <td>203</td>\n",
       "    </tr>\n",
       "    <tr>\n",
       "      <th>3768</th>\n",
       "      <td>CVTO1010</td>\n",
       "      <td>1428</td>\n",
       "      <td>140</td>\n",
       "      <td>100</td>\n",
       "      <td>10.200000</td>\n",
       "      <td>93.500000</td>\n",
       "      <td>96.0</td>\n",
       "      <td>8646.300000</td>\n",
       "      <td>183</td>\n",
       "    </tr>\n",
       "    <tr>\n",
       "      <th>2503</th>\n",
       "      <td>BETAPEN</td>\n",
       "      <td>833</td>\n",
       "      <td>140</td>\n",
       "      <td>120</td>\n",
       "      <td>5.950000</td>\n",
       "      <td>NaN</td>\n",
       "      <td>NaN</td>\n",
       "      <td>NaN</td>\n",
       "      <td>178</td>\n",
       "    </tr>\n",
       "    <tr>\n",
       "      <th>3827</th>\n",
       "      <td>CVVW1001</td>\n",
       "      <td>1048</td>\n",
       "      <td>137</td>\n",
       "      <td>50</td>\n",
       "      <td>7.649635</td>\n",
       "      <td>93.500000</td>\n",
       "      <td>96.0</td>\n",
       "      <td>4084.759124</td>\n",
       "      <td>177</td>\n",
       "    </tr>\n",
       "    <tr>\n",
       "      <th>2502</th>\n",
       "      <td>BETA1527</td>\n",
       "      <td>798</td>\n",
       "      <td>140</td>\n",
       "      <td>120</td>\n",
       "      <td>5.700000</td>\n",
       "      <td>NaN</td>\n",
       "      <td>NaN</td>\n",
       "      <td>NaN</td>\n",
       "      <td>173</td>\n",
       "    </tr>\n",
       "    <tr>\n",
       "      <th>3828</th>\n",
       "      <td>CVVW1001ZZ</td>\n",
       "      <td>763</td>\n",
       "      <td>138</td>\n",
       "      <td>50</td>\n",
       "      <td>5.528986</td>\n",
       "      <td>99.333333</td>\n",
       "      <td>111.0</td>\n",
       "      <td>5000.787440</td>\n",
       "      <td>172</td>\n",
       "    </tr>\n",
       "    <tr>\n",
       "      <th>10017</th>\n",
       "      <td>WS390064-GG-M</td>\n",
       "      <td>170</td>\n",
       "      <td>140</td>\n",
       "      <td>5</td>\n",
       "      <td>1.214286</td>\n",
       "      <td>105.000000</td>\n",
       "      <td>108.0</td>\n",
       "      <td>412.500000</td>\n",
       "      <td>151</td>\n",
       "    </tr>\n",
       "    <tr>\n",
       "      <th>6669</th>\n",
       "      <td>RDOP0311</td>\n",
       "      <td>178</td>\n",
       "      <td>140</td>\n",
       "      <td>8</td>\n",
       "      <td>1.271429</td>\n",
       "      <td>94.000000</td>\n",
       "      <td>99.0</td>\n",
       "      <td>672.485714</td>\n",
       "      <td>134</td>\n",
       "    </tr>\n",
       "  </tbody>\n",
       "</table>\n",
       "</div>"
      ],
      "text/plain": [
       "           StockCode  SumTrnQty  timerange  MaxTrnQty  MeanTrnQty  \\\n",
       "6705        RDTA0080        765        140         50    5.464286   \n",
       "3770      CVTO1010ZZ       1290        140         50    9.214286   \n",
       "6790        RDVW0010        497        140         50    3.550000   \n",
       "3768        CVTO1010       1428        140        100   10.200000   \n",
       "2503         BETAPEN        833        140        120    5.950000   \n",
       "3827        CVVW1001       1048        137         50    7.649635   \n",
       "2502        BETA1527        798        140        120    5.700000   \n",
       "3828      CVVW1001ZZ        763        138         50    5.528986   \n",
       "10017  WS390064-GG-M        170        140          5    1.214286   \n",
       "6669        RDOP0311        178        140          8    1.271429   \n",
       "\n",
       "       MeanTotalLeadTime  MaxTotalLeadTime  BufferStock  PickCounts  \n",
       "6705           94.000000              99.0  4436.357143         309  \n",
       "3770           99.333333             111.0  4634.714286         209  \n",
       "6790           91.500000              96.0  4475.175000         203  \n",
       "3768           93.500000              96.0  8646.300000         183  \n",
       "2503                 NaN               NaN          NaN         178  \n",
       "3827           93.500000              96.0  4084.759124         177  \n",
       "2502                 NaN               NaN          NaN         173  \n",
       "3828           99.333333             111.0  5000.787440         172  \n",
       "10017         105.000000             108.0   412.500000         151  \n",
       "6669           94.000000              99.0   672.485714         134  "
      ]
     },
     "execution_count": 90,
     "metadata": {},
     "output_type": "execute_result"
    }
   ],
   "source": [
    "C2_TrnQty_leadtime.sort_values('PickCounts',ascending = False).head(10)"
   ]
  },
  {
   "cell_type": "code",
   "execution_count": 91,
   "metadata": {},
   "outputs": [
    {
     "data": {
      "text/plain": [
       "(2540, 9)"
      ]
     },
     "execution_count": 91,
     "metadata": {},
     "output_type": "execute_result"
    }
   ],
   "source": [
    "C2_TrnQty_leadtime[(C2_TrnQty_leadtime.PickCounts > 5) & (C2_TrnQty_leadtime.BufferStock.notnull())].shape"
   ]
  },
  {
   "cell_type": "code",
   "execution_count": 92,
   "metadata": {},
   "outputs": [
    {
     "data": {
      "text/plain": [
       "(2525, 9)"
      ]
     },
     "execution_count": 92,
     "metadata": {},
     "output_type": "execute_result"
    }
   ],
   "source": [
    "C2_TrnQty_leadtime[(C2_TrnQty_leadtime.PickCounts > 5) & (C2_TrnQty_leadtime.BufferStock > 50)].shape"
   ]
  },
  {
   "cell_type": "code",
   "execution_count": null,
   "metadata": {},
   "outputs": [],
   "source": []
  }
 ],
 "metadata": {
  "kernelspec": {
   "display_name": "Python 3",
   "language": "python",
   "name": "python3"
  },
  "language_info": {
   "codemirror_mode": {
    "name": "ipython",
    "version": 3
   },
   "file_extension": ".py",
   "mimetype": "text/x-python",
   "name": "python",
   "nbconvert_exporter": "python",
   "pygments_lexer": "ipython3",
   "version": "3.7.3"
  }
 },
 "nbformat": 4,
 "nbformat_minor": 2
}
