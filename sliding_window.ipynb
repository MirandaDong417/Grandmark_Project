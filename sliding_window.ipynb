{
 "cells": [
  {
   "cell_type": "code",
   "execution_count": 4,
   "metadata": {},
   "outputs": [],
   "source": [
    "import pandas as pd\n",
    "import numpy as np\n",
    "import matplotlib.pyplot as plt\n",
    "pd.set_option('display.max_columns', None)"
   ]
  },
  {
   "cell_type": "code",
   "execution_count": 5,
   "metadata": {},
   "outputs": [
    {
     "name": "stderr",
     "output_type": "stream",
     "text": [
      "UsageError: Line magic function `%` not found.\n"
     ]
    }
   ],
   "source": [
    "# % matplotlib inline "
   ]
  },
  {
   "cell_type": "code",
   "execution_count": 98,
   "metadata": {},
   "outputs": [],
   "source": [
    "J2_2019 = pd.read_excel('sale_movements/sales_movements_J2.xlsx', sheet_name = '2019')\n",
    "J2_2018 = pd.read_excel('sale_movements/sales_movements_J2.xlsx', sheet_name = '2018')"
   ]
  },
  {
   "cell_type": "code",
   "execution_count": 100,
   "metadata": {},
   "outputs": [
    {
     "data": {
      "text/plain": [
       "(55043, 21)"
      ]
     },
     "execution_count": 100,
     "metadata": {},
     "output_type": "execute_result"
    }
   ],
   "source": [
    "J2_2018.shape"
   ]
  },
  {
   "cell_type": "code",
   "execution_count": 102,
   "metadata": {},
   "outputs": [
    {
     "data": {
      "text/plain": [
       "(21812, 21)"
      ]
     },
     "execution_count": 102,
     "metadata": {},
     "output_type": "execute_result"
    }
   ],
   "source": [
    "J2_2019.shape"
   ]
  },
  {
   "cell_type": "code",
   "execution_count": 101,
   "metadata": {},
   "outputs": [
    {
     "data": {
      "text/plain": [
       "(24593, 21)"
      ]
     },
     "execution_count": 101,
     "metadata": {},
     "output_type": "execute_result"
    }
   ],
   "source": [
    "J2_sales.shape"
   ]
  },
  {
   "cell_type": "code",
   "execution_count": 71,
   "metadata": {},
   "outputs": [],
   "source": [
    "J2_sales = pd.read_excel('sale_movements/sales_movements_J2.xlsx')"
   ]
  },
  {
   "cell_type": "code",
   "execution_count": 77,
   "metadata": {},
   "outputs": [],
   "source": [
    "a = pd.read_excel('sale_movements/sales_movements_J2.xlsx')"
   ]
  },
  {
   "cell_type": "code",
   "execution_count": null,
   "metadata": {},
   "outputs": [],
   "source": [
    "# C2_sales = pd.read_excel('sale_movements/sales_movements_C2.xlsx')"
   ]
  },
  {
   "cell_type": "code",
   "execution_count": 8,
   "metadata": {},
   "outputs": [],
   "source": [
    "lost_sales = pd.read_excel(\"Lost Sales.xlsx\", sheet_name = \"LostSalesAll\")"
   ]
  },
  {
   "cell_type": "code",
   "execution_count": 14,
   "metadata": {},
   "outputs": [
    {
     "data": {
      "text/plain": [
       "array(['B3', 'C2', 'D1', 'E1', 'EL', 'J1', 'L1', 'N1', 'P2', 'G1', 'J2',\n",
       "       'LI', 'J3', nan, 'L2', '+', '01', 'CLK89', 'J', '94193', '217-1',\n",
       "       'MZ040', '5', 'BJSH4', 'C1', '213-1', 'JC', 'CVSK1', ' E1',\n",
       "       'FD022', 'RDCAP', 'SHG90', 'B1', 'JJ1', '0P2', ' C2', '1', '316-1',\n",
       "       '.', 'GFGL1', 'P21', 'AC2', '216-1', 'CVSMZ', 'BC2', '3', '03',\n",
       "       'CVC2', 'P', '`P2', 'FD036', 'RFVW0', 'DG360', '212-1', '1C2'],\n",
       "      dtype=object)"
      ]
     },
     "execution_count": 14,
     "metadata": {},
     "output_type": "execute_result"
    }
   ],
   "source": [
    "lost_sales.Warehouse.unique()"
   ]
  },
  {
   "cell_type": "code",
   "execution_count": 9,
   "metadata": {},
   "outputs": [
    {
     "data": {
      "text/html": [
       "<div>\n",
       "<style scoped>\n",
       "    .dataframe tbody tr th:only-of-type {\n",
       "        vertical-align: middle;\n",
       "    }\n",
       "\n",
       "    .dataframe tbody tr th {\n",
       "        vertical-align: top;\n",
       "    }\n",
       "\n",
       "    .dataframe thead th {\n",
       "        text-align: right;\n",
       "    }\n",
       "</style>\n",
       "<table border=\"1\" class=\"dataframe\">\n",
       "  <thead>\n",
       "    <tr style=\"text-align: right;\">\n",
       "      <th></th>\n",
       "      <th>StockCode</th>\n",
       "      <th>Warehouse</th>\n",
       "      <th>TrnYear</th>\n",
       "      <th>TrnMonth</th>\n",
       "      <th>EntryDate</th>\n",
       "      <th>TrnTime</th>\n",
       "      <th>MovementType</th>\n",
       "      <th>TrnQty</th>\n",
       "      <th>TrnValue</th>\n",
       "      <th>UnitCost</th>\n",
       "      <th>SalesOrder</th>\n",
       "      <th>Invoice</th>\n",
       "      <th>DocType</th>\n",
       "      <th>Customer</th>\n",
       "      <th>CostValue</th>\n",
       "      <th>Branch</th>\n",
       "      <th>Salesperson</th>\n",
       "      <th>SalesBin</th>\n",
       "      <th>CustomerPoNumber</th>\n",
       "      <th>ProductClass</th>\n",
       "      <th>DateInfoPulled</th>\n",
       "    </tr>\n",
       "  </thead>\n",
       "  <tbody>\n",
       "    <tr>\n",
       "      <th>0</th>\n",
       "      <td>FD0053BN01PL</td>\n",
       "      <td>A1</td>\n",
       "      <td>2017</td>\n",
       "      <td>7</td>\n",
       "      <td>2016-09-26</td>\n",
       "      <td>10062361</td>\n",
       "      <td>S</td>\n",
       "      <td>-1</td>\n",
       "      <td>-2403.0</td>\n",
       "      <td>1062.75246</td>\n",
       "      <td>OA18002972</td>\n",
       "      <td>IA18002935</td>\n",
       "      <td>C</td>\n",
       "      <td>AROO010</td>\n",
       "      <td>-1062.75</td>\n",
       "      <td>A1</td>\n",
       "      <td>A37</td>\n",
       "      <td>6A04A</td>\n",
       "      <td>RMA:RA10002979</td>\n",
       "      <td>BNP</td>\n",
       "      <td>2019-09-25</td>\n",
       "    </tr>\n",
       "    <tr>\n",
       "      <th>1</th>\n",
       "      <td>WS990389-GB-ZZ</td>\n",
       "      <td>A1</td>\n",
       "      <td>2017</td>\n",
       "      <td>7</td>\n",
       "      <td>2016-09-26</td>\n",
       "      <td>10100164</td>\n",
       "      <td>S</td>\n",
       "      <td>1</td>\n",
       "      <td>660.0</td>\n",
       "      <td>562.62264</td>\n",
       "      <td>OA10020832</td>\n",
       "      <td>IA10015627</td>\n",
       "      <td>I</td>\n",
       "      <td>ACAS161</td>\n",
       "      <td>562.62</td>\n",
       "      <td>A1</td>\n",
       "      <td>A06</td>\n",
       "      <td>GB2701</td>\n",
       "      <td></td>\n",
       "      <td>WSZ</td>\n",
       "      <td>2019-09-25</td>\n",
       "    </tr>\n",
       "    <tr>\n",
       "      <th>2</th>\n",
       "      <td>WS070297-GY-RPE-ZZ</td>\n",
       "      <td>A1</td>\n",
       "      <td>2017</td>\n",
       "      <td>7</td>\n",
       "      <td>2016-09-26</td>\n",
       "      <td>10124912</td>\n",
       "      <td>S</td>\n",
       "      <td>1</td>\n",
       "      <td>1008.0</td>\n",
       "      <td>900.26314</td>\n",
       "      <td>OA10020833</td>\n",
       "      <td>IA10015628</td>\n",
       "      <td>I</td>\n",
       "      <td>ACAS162</td>\n",
       "      <td>900.26</td>\n",
       "      <td>A1</td>\n",
       "      <td>A22</td>\n",
       "      <td>GB2402</td>\n",
       "      <td>ASHLEY</td>\n",
       "      <td>WSZ</td>\n",
       "      <td>2019-09-25</td>\n",
       "    </tr>\n",
       "    <tr>\n",
       "      <th>3</th>\n",
       "      <td>TP484403535ROLL</td>\n",
       "      <td>A1</td>\n",
       "      <td>2017</td>\n",
       "      <td>7</td>\n",
       "      <td>2016-09-26</td>\n",
       "      <td>10124942</td>\n",
       "      <td>S</td>\n",
       "      <td>4</td>\n",
       "      <td>64.0</td>\n",
       "      <td>14.13510</td>\n",
       "      <td>OA10020833</td>\n",
       "      <td>IA10015628</td>\n",
       "      <td>I</td>\n",
       "      <td>ACAS162</td>\n",
       "      <td>56.54</td>\n",
       "      <td>A1</td>\n",
       "      <td>A22</td>\n",
       "      <td>CAGE</td>\n",
       "      <td>ASHLEY</td>\n",
       "      <td>TP</td>\n",
       "      <td>2019-09-25</td>\n",
       "    </tr>\n",
       "    <tr>\n",
       "      <th>4</th>\n",
       "      <td>WSR390312</td>\n",
       "      <td>A1</td>\n",
       "      <td>2017</td>\n",
       "      <td>7</td>\n",
       "      <td>2016-09-26</td>\n",
       "      <td>10165867</td>\n",
       "      <td>S</td>\n",
       "      <td>1</td>\n",
       "      <td>825.0</td>\n",
       "      <td>479.89789</td>\n",
       "      <td>OA10020834</td>\n",
       "      <td>IA10015629</td>\n",
       "      <td>I</td>\n",
       "      <td>ACAS162</td>\n",
       "      <td>479.90</td>\n",
       "      <td>A1</td>\n",
       "      <td>A30</td>\n",
       "      <td>20C04B</td>\n",
       "      <td></td>\n",
       "      <td>WSR</td>\n",
       "      <td>2019-09-25</td>\n",
       "    </tr>\n",
       "  </tbody>\n",
       "</table>\n",
       "</div>"
      ],
      "text/plain": [
       "            StockCode Warehouse  TrnYear  TrnMonth   EntryDate   TrnTime  \\\n",
       "0        FD0053BN01PL        A1     2017         7  2016-09-26  10062361   \n",
       "1      WS990389-GB-ZZ        A1     2017         7  2016-09-26  10100164   \n",
       "2  WS070297-GY-RPE-ZZ        A1     2017         7  2016-09-26  10124912   \n",
       "3     TP484403535ROLL        A1     2017         7  2016-09-26  10124942   \n",
       "4           WSR390312        A1     2017         7  2016-09-26  10165867   \n",
       "\n",
       "  MovementType  TrnQty  TrnValue    UnitCost  SalesOrder     Invoice DocType  \\\n",
       "0            S      -1   -2403.0  1062.75246  OA18002972  IA18002935       C   \n",
       "1            S       1     660.0   562.62264  OA10020832  IA10015627       I   \n",
       "2            S       1    1008.0   900.26314  OA10020833  IA10015628       I   \n",
       "3            S       4      64.0    14.13510  OA10020833  IA10015628       I   \n",
       "4            S       1     825.0   479.89789  OA10020834  IA10015629       I   \n",
       "\n",
       "  Customer  CostValue Branch Salesperson SalesBin CustomerPoNumber  \\\n",
       "0  AROO010   -1062.75     A1         A37    6A04A   RMA:RA10002979   \n",
       "1  ACAS161     562.62     A1         A06   GB2701                    \n",
       "2  ACAS162     900.26     A1         A22   GB2402           ASHLEY   \n",
       "3  ACAS162      56.54     A1         A22     CAGE           ASHLEY   \n",
       "4  ACAS162     479.90     A1         A30   20C04B                    \n",
       "\n",
       "  ProductClass DateInfoPulled  \n",
       "0          BNP     2019-09-25  \n",
       "1          WSZ     2019-09-25  \n",
       "2          WSZ     2019-09-25  \n",
       "3           TP     2019-09-25  \n",
       "4          WSR     2019-09-25  "
      ]
     },
     "execution_count": 9,
     "metadata": {},
     "output_type": "execute_result"
    }
   ],
   "source": [
    "J2_sales.head()"
   ]
  },
  {
   "cell_type": "code",
   "execution_count": null,
   "metadata": {},
   "outputs": [],
   "source": []
  },
  {
   "cell_type": "code",
   "execution_count": null,
   "metadata": {},
   "outputs": [],
   "source": [
    "sales.loc[:, \"count\"] = sales.groupby('StockCode')['StockCode'].transform('count')"
   ]
  },
  {
   "cell_type": "code",
   "execution_count": null,
   "metadata": {},
   "outputs": [],
   "source": []
  },
  {
   "cell_type": "code",
   "execution_count": 78,
   "metadata": {},
   "outputs": [],
   "source": [
    "b = a[a.columns[[0,4,7]]]"
   ]
  },
  {
   "cell_type": "code",
   "execution_count": 80,
   "metadata": {},
   "outputs": [],
   "source": [
    "def loss_function(sales, loss_sales, wh, windowSize):\n",
    "    lost_sales_dict = {}\n",
    "    \"\"\"\"\n",
    "    t a dictionary mapping a sales code to an array where index 0 is the \n",
    "    number of times a lost sale ocurred and index 1 is the total of lost quantity\n",
    "   \n",
    "    \"\"\"\n",
    "    sales = sales[sales.columns[[0,4,7]]]\n",
    "    sales.loc[:, 'TrnQty'] = sales['TrnQty'].abs()\n",
    "    for index,row in loss_sales.iterrows():\n",
    "        code = row[\"StockCode\"]\n",
    "        warehouse = row[\"Warehouse\"]\n",
    "        if warehouse == wh:\n",
    "            if code in lost_sales_dict.keys(): \n",
    "                lost_sales_dict[code][0] += 1\n",
    "                lost_sales_dict[code][1] += row[\"QuantityLost\"] \n",
    "            else:\n",
    "                lost_sales_dict[code] = []\n",
    "                lost_sales_dict[code].append(1)\n",
    "                lost_sales_dict[code].append(row[\"QuantityLost\"])\n",
    "                \n",
    "    TrnQty_withLoss = []\n",
    "    sales = sales.groupby([\"StockCode\",\"EntryDate\"])['TrnQty'].sum().reset_index()\n",
    "    for index, row in sales.iterrows():\n",
    "        code = row[\"StockCode\"]\n",
    "        TrnQty = row['TrnQty']\n",
    "        if code in lost_sales_dict.keys(): \n",
    "            lostSalesAvg = lost_sales_dict[code][1] / lost_sales_dict[code][0]\n",
    "            TrnQty_withLoss.append(TrnQty + lostSalesAvg)\n",
    "        else:\n",
    "            TrnQty_withLoss.append(TrnQty)\n",
    "            \n",
    "    sales.loc[:, \"TrnQty_withLoss\"] = TrnQty_withLoss\n",
    "    \n",
    "    sales.loc[:, \"count\"] = sales.groupby('StockCode')['StockCode'].transform('count')\n",
    "    \n",
    "    \n",
    "    \"\"\"Creating sliding window filtering out any stockcodes less than 10\"\"\"\n",
    "    sales.loc[:, \"EntryDate\"] = pd.to_datetime(sales['EntryDate'])\n",
    "    sales = sales[sales['count'] > windowSize]\n",
    "    \n",
    "    for index, row in sales.iterrows():\n",
    "        code = row[\"StockCode\"]\n",
    "        sales.loc[sales.StockCode == code, 'mean'] = sales[\n",
    "            sales.StockCode == code].TrnQty_withLoss.rolling(windowSize, min_periods = 1).mean()\n",
    "        sales.loc[sales.StockCode == code, 'std'] = sales[\n",
    "            sales.StockCode == code].TrnQty_withLoss.rolling(windowSize, min_periods = 1).std()\n",
    "\n",
    "    return sales"
   ]
  },
  {
   "cell_type": "code",
   "execution_count": 103,
   "metadata": {},
   "outputs": [
    {
     "name": "stderr",
     "output_type": "stream",
     "text": [
      "/Users/dongxujia/anaconda3/lib/python3.7/site-packages/pandas/core/indexing.py:543: SettingWithCopyWarning: \n",
      "A value is trying to be set on a copy of a slice from a DataFrame.\n",
      "Try using .loc[row_indexer,col_indexer] = value instead\n",
      "\n",
      "See the caveats in the documentation: http://pandas.pydata.org/pandas-docs/stable/indexing.html#indexing-view-versus-copy\n",
      "  self.obj[item] = s\n"
     ]
    }
   ],
   "source": [
    "dwrw2018 = loss_function(J2_2018, lost_sales, \"J2\", 10)"
   ]
  },
  {
   "cell_type": "code",
   "execution_count": 81,
   "metadata": {},
   "outputs": [
    {
     "name": "stderr",
     "output_type": "stream",
     "text": [
      "/Users/dongxujia/anaconda3/lib/python3.7/site-packages/pandas/core/indexing.py:543: SettingWithCopyWarning: \n",
      "A value is trying to be set on a copy of a slice from a DataFrame.\n",
      "Try using .loc[row_indexer,col_indexer] = value instead\n",
      "\n",
      "See the caveats in the documentation: http://pandas.pydata.org/pandas-docs/stable/indexing.html#indexing-view-versus-copy\n",
      "  self.obj[item] = s\n"
     ]
    }
   ],
   "source": [
    "data_withLoss = loss_function(J2_sales, lost_sales, \"J2\", 10)"
   ]
  },
  {
   "cell_type": "code",
   "execution_count": 93,
   "metadata": {},
   "outputs": [
    {
     "data": {
      "text/plain": [
       "Series([], Name: TrnQty, dtype: int64)"
      ]
     },
     "execution_count": 93,
     "metadata": {},
     "output_type": "execute_result"
    }
   ],
   "source": [
    "J2_sales[J2_sales[\"EntryDate\"] == 'A'][\"TrnQty\"]"
   ]
  },
  {
   "cell_type": "code",
   "execution_count": 106,
   "metadata": {},
   "outputs": [
    {
     "data": {
      "text/plain": [
       "StockCode                       409164\n",
       "EntryDate          2017-06-01 00:00:00\n",
       "TrnQty                              22\n",
       "TrnQty_withLoss                71.3333\n",
       "count                              249\n",
       "mean                           172.133\n",
       "std                            209.701\n",
       "Name: 552, dtype: object"
      ]
     },
     "execution_count": 106,
     "metadata": {},
     "output_type": "execute_result"
    }
   ],
   "source": [
    "dwrw2018.loc[552]"
   ]
  },
  {
   "cell_type": "code",
   "execution_count": 82,
   "metadata": {},
   "outputs": [
    {
     "data": {
      "text/html": [
       "<div>\n",
       "<style scoped>\n",
       "    .dataframe tbody tr th:only-of-type {\n",
       "        vertical-align: middle;\n",
       "    }\n",
       "\n",
       "    .dataframe tbody tr th {\n",
       "        vertical-align: top;\n",
       "    }\n",
       "\n",
       "    .dataframe thead th {\n",
       "        text-align: right;\n",
       "    }\n",
       "</style>\n",
       "<table border=\"1\" class=\"dataframe\">\n",
       "  <thead>\n",
       "    <tr style=\"text-align: right;\">\n",
       "      <th></th>\n",
       "      <th>StockCode</th>\n",
       "      <th>EntryDate</th>\n",
       "      <th>TrnQty</th>\n",
       "      <th>TrnQty_withLoss</th>\n",
       "      <th>count</th>\n",
       "      <th>mean</th>\n",
       "      <th>std</th>\n",
       "    </tr>\n",
       "  </thead>\n",
       "  <tbody>\n",
       "    <tr>\n",
       "      <th>3</th>\n",
       "      <td>1419</td>\n",
       "      <td>2016-10-25</td>\n",
       "      <td>1</td>\n",
       "      <td>1.0</td>\n",
       "      <td>23</td>\n",
       "      <td>1.000000</td>\n",
       "      <td>NaN</td>\n",
       "    </tr>\n",
       "    <tr>\n",
       "      <th>4</th>\n",
       "      <td>1419</td>\n",
       "      <td>2016-10-27</td>\n",
       "      <td>6</td>\n",
       "      <td>6.0</td>\n",
       "      <td>23</td>\n",
       "      <td>3.500000</td>\n",
       "      <td>3.535534</td>\n",
       "    </tr>\n",
       "    <tr>\n",
       "      <th>5</th>\n",
       "      <td>1419</td>\n",
       "      <td>2016-11-07</td>\n",
       "      <td>6</td>\n",
       "      <td>6.0</td>\n",
       "      <td>23</td>\n",
       "      <td>4.333333</td>\n",
       "      <td>2.886751</td>\n",
       "    </tr>\n",
       "    <tr>\n",
       "      <th>6</th>\n",
       "      <td>1419</td>\n",
       "      <td>2016-11-09</td>\n",
       "      <td>1</td>\n",
       "      <td>1.0</td>\n",
       "      <td>23</td>\n",
       "      <td>3.500000</td>\n",
       "      <td>2.886751</td>\n",
       "    </tr>\n",
       "    <tr>\n",
       "      <th>7</th>\n",
       "      <td>1419</td>\n",
       "      <td>2016-11-10</td>\n",
       "      <td>1</td>\n",
       "      <td>1.0</td>\n",
       "      <td>23</td>\n",
       "      <td>3.000000</td>\n",
       "      <td>2.738613</td>\n",
       "    </tr>\n",
       "  </tbody>\n",
       "</table>\n",
       "</div>"
      ],
      "text/plain": [
       "  StockCode  EntryDate  TrnQty  TrnQty_withLoss  count      mean       std\n",
       "3      1419 2016-10-25       1              1.0     23  1.000000       NaN\n",
       "4      1419 2016-10-27       6              6.0     23  3.500000  3.535534\n",
       "5      1419 2016-11-07       6              6.0     23  4.333333  2.886751\n",
       "6      1419 2016-11-09       1              1.0     23  3.500000  2.886751\n",
       "7      1419 2016-11-10       1              1.0     23  3.000000  2.738613"
      ]
     },
     "execution_count": 82,
     "metadata": {},
     "output_type": "execute_result"
    }
   ],
   "source": [
    "data_withLoss.head()"
   ]
  },
  {
   "cell_type": "code",
   "execution_count": 113,
   "metadata": {},
   "outputs": [],
   "source": [
    "def calculateError(dwrw, nextYear, sd, stockCode):\n",
    "    error = 0\n",
    "    count = 0\n",
    "    nDf = dwrw[dwrw['StockCode'] == stockCode]\n",
    "    nNy = nextYear[nextYear['StockCode'] == stockCode]\n",
    "    nNy.loc[:, \"EntryDate\"] = pd.to_datetime(nNy['EntryDate'])\n",
    "    nNy = nNy[nNy.columns[[0,4,7]]]\n",
    "    nNy = nNy.groupby([\"StockCode\",\"EntryDate\"])['TrnQty'].sum().reset_index()\n",
    "    for index, row in nDf.iterrows():\n",
    "        upperBound = row[\"mean\"] + sd * row[\"std\"]\n",
    "        q = nNy[(nNy[\"EntryDate\"].month == row[\"EntryDate\"].month) and (nNy[\"EntryDate\"].day == row[\"EntryDate\"].day)]['TrnQty']\n",
    "        if len(q) > 0:\n",
    "            error += (q[0] - upperBound)**2\n",
    "            count += 1\n",
    "    return error/count\n",
    "        "
   ]
  },
  {
   "cell_type": "code",
   "execution_count": 114,
   "metadata": {},
   "outputs": [
    {
     "name": "stderr",
     "output_type": "stream",
     "text": [
      "/Users/dongxujia/anaconda3/lib/python3.7/site-packages/pandas/core/indexing.py:543: SettingWithCopyWarning: \n",
      "A value is trying to be set on a copy of a slice from a DataFrame.\n",
      "Try using .loc[row_indexer,col_indexer] = value instead\n",
      "\n",
      "See the caveats in the documentation: http://pandas.pydata.org/pandas-docs/stable/indexing.html#indexing-view-versus-copy\n",
      "  self.obj[item] = s\n"
     ]
    },
    {
     "ename": "AttributeError",
     "evalue": "'Series' object has no attribute 'month'",
     "output_type": "error",
     "traceback": [
      "\u001b[0;31m---------------------------------------------------------------------------\u001b[0m",
      "\u001b[0;31mAttributeError\u001b[0m                            Traceback (most recent call last)",
      "\u001b[0;32m<ipython-input-114-2d12688238a2>\u001b[0m in \u001b[0;36m<module>\u001b[0;34m\u001b[0m\n\u001b[0;32m----> 1\u001b[0;31m \u001b[0mcalculateError\u001b[0m\u001b[0;34m(\u001b[0m\u001b[0mdwrw2018\u001b[0m\u001b[0;34m,\u001b[0m \u001b[0mJ2_2019\u001b[0m\u001b[0;34m,\u001b[0m \u001b[0;36m2\u001b[0m\u001b[0;34m,\u001b[0m \u001b[0;34m'409164'\u001b[0m\u001b[0;34m)\u001b[0m\u001b[0;34m\u001b[0m\u001b[0;34m\u001b[0m\u001b[0m\n\u001b[0m",
      "\u001b[0;32m<ipython-input-113-b01d3e660e66>\u001b[0m in \u001b[0;36mcalculateError\u001b[0;34m(dwrw, nextYear, sd, stockCode)\u001b[0m\n\u001b[1;32m      9\u001b[0m     \u001b[0;32mfor\u001b[0m \u001b[0mindex\u001b[0m\u001b[0;34m,\u001b[0m \u001b[0mrow\u001b[0m \u001b[0;32min\u001b[0m \u001b[0mnDf\u001b[0m\u001b[0;34m.\u001b[0m\u001b[0miterrows\u001b[0m\u001b[0;34m(\u001b[0m\u001b[0;34m)\u001b[0m\u001b[0;34m:\u001b[0m\u001b[0;34m\u001b[0m\u001b[0;34m\u001b[0m\u001b[0m\n\u001b[1;32m     10\u001b[0m         \u001b[0mupperBound\u001b[0m \u001b[0;34m=\u001b[0m \u001b[0mrow\u001b[0m\u001b[0;34m[\u001b[0m\u001b[0;34m\"mean\"\u001b[0m\u001b[0;34m]\u001b[0m \u001b[0;34m+\u001b[0m \u001b[0msd\u001b[0m \u001b[0;34m*\u001b[0m \u001b[0mrow\u001b[0m\u001b[0;34m[\u001b[0m\u001b[0;34m\"std\"\u001b[0m\u001b[0;34m]\u001b[0m\u001b[0;34m\u001b[0m\u001b[0;34m\u001b[0m\u001b[0m\n\u001b[0;32m---> 11\u001b[0;31m         \u001b[0mq\u001b[0m \u001b[0;34m=\u001b[0m \u001b[0mnNy\u001b[0m\u001b[0;34m[\u001b[0m\u001b[0;34m(\u001b[0m\u001b[0mnNy\u001b[0m\u001b[0;34m[\u001b[0m\u001b[0;34m\"EntryDate\"\u001b[0m\u001b[0;34m]\u001b[0m\u001b[0;34m.\u001b[0m\u001b[0mmonth\u001b[0m \u001b[0;34m==\u001b[0m \u001b[0mrow\u001b[0m\u001b[0;34m[\u001b[0m\u001b[0;34m\"EntryDate\"\u001b[0m\u001b[0;34m]\u001b[0m\u001b[0;34m.\u001b[0m\u001b[0mmonth\u001b[0m\u001b[0;34m)\u001b[0m \u001b[0;32mand\u001b[0m \u001b[0;34m(\u001b[0m\u001b[0mnNy\u001b[0m\u001b[0;34m[\u001b[0m\u001b[0;34m\"EntryDate\"\u001b[0m\u001b[0;34m]\u001b[0m\u001b[0;34m.\u001b[0m\u001b[0mday\u001b[0m \u001b[0;34m==\u001b[0m \u001b[0mrow\u001b[0m\u001b[0;34m[\u001b[0m\u001b[0;34m\"EntryDate\"\u001b[0m\u001b[0;34m]\u001b[0m\u001b[0;34m.\u001b[0m\u001b[0mday\u001b[0m\u001b[0;34m)\u001b[0m\u001b[0;34m]\u001b[0m\u001b[0;34m[\u001b[0m\u001b[0;34m'TrnQty'\u001b[0m\u001b[0;34m]\u001b[0m\u001b[0;34m\u001b[0m\u001b[0;34m\u001b[0m\u001b[0m\n\u001b[0m\u001b[1;32m     12\u001b[0m         \u001b[0;32mif\u001b[0m \u001b[0mlen\u001b[0m\u001b[0;34m(\u001b[0m\u001b[0mq\u001b[0m\u001b[0;34m)\u001b[0m \u001b[0;34m>\u001b[0m \u001b[0;36m0\u001b[0m\u001b[0;34m:\u001b[0m\u001b[0;34m\u001b[0m\u001b[0;34m\u001b[0m\u001b[0m\n\u001b[1;32m     13\u001b[0m             \u001b[0merror\u001b[0m \u001b[0;34m+=\u001b[0m \u001b[0;34m(\u001b[0m\u001b[0mq\u001b[0m\u001b[0;34m[\u001b[0m\u001b[0;36m0\u001b[0m\u001b[0;34m]\u001b[0m \u001b[0;34m-\u001b[0m \u001b[0mupperBound\u001b[0m\u001b[0;34m)\u001b[0m\u001b[0;34m**\u001b[0m\u001b[0;36m2\u001b[0m\u001b[0;34m\u001b[0m\u001b[0;34m\u001b[0m\u001b[0m\n",
      "\u001b[0;32m~/anaconda3/lib/python3.7/site-packages/pandas/core/generic.py\u001b[0m in \u001b[0;36m__getattr__\u001b[0;34m(self, name)\u001b[0m\n\u001b[1;32m   5065\u001b[0m             \u001b[0;32mif\u001b[0m \u001b[0mself\u001b[0m\u001b[0;34m.\u001b[0m\u001b[0m_info_axis\u001b[0m\u001b[0;34m.\u001b[0m\u001b[0m_can_hold_identifiers_and_holds_name\u001b[0m\u001b[0;34m(\u001b[0m\u001b[0mname\u001b[0m\u001b[0;34m)\u001b[0m\u001b[0;34m:\u001b[0m\u001b[0;34m\u001b[0m\u001b[0;34m\u001b[0m\u001b[0m\n\u001b[1;32m   5066\u001b[0m                 \u001b[0;32mreturn\u001b[0m \u001b[0mself\u001b[0m\u001b[0;34m[\u001b[0m\u001b[0mname\u001b[0m\u001b[0;34m]\u001b[0m\u001b[0;34m\u001b[0m\u001b[0;34m\u001b[0m\u001b[0m\n\u001b[0;32m-> 5067\u001b[0;31m             \u001b[0;32mreturn\u001b[0m \u001b[0mobject\u001b[0m\u001b[0;34m.\u001b[0m\u001b[0m__getattribute__\u001b[0m\u001b[0;34m(\u001b[0m\u001b[0mself\u001b[0m\u001b[0;34m,\u001b[0m \u001b[0mname\u001b[0m\u001b[0;34m)\u001b[0m\u001b[0;34m\u001b[0m\u001b[0;34m\u001b[0m\u001b[0m\n\u001b[0m\u001b[1;32m   5068\u001b[0m \u001b[0;34m\u001b[0m\u001b[0m\n\u001b[1;32m   5069\u001b[0m     \u001b[0;32mdef\u001b[0m \u001b[0m__setattr__\u001b[0m\u001b[0;34m(\u001b[0m\u001b[0mself\u001b[0m\u001b[0;34m,\u001b[0m \u001b[0mname\u001b[0m\u001b[0;34m,\u001b[0m \u001b[0mvalue\u001b[0m\u001b[0;34m)\u001b[0m\u001b[0;34m:\u001b[0m\u001b[0;34m\u001b[0m\u001b[0;34m\u001b[0m\u001b[0m\n",
      "\u001b[0;31mAttributeError\u001b[0m: 'Series' object has no attribute 'month'"
     ]
    }
   ],
   "source": [
    "calculateError(dwrw2018, J2_2019, 2, '409164')"
   ]
  },
  {
   "cell_type": "code",
   "execution_count": null,
   "metadata": {},
   "outputs": [],
   "source": []
  },
  {
   "cell_type": "code",
   "execution_count": null,
   "metadata": {},
   "outputs": [],
   "source": []
  },
  {
   "cell_type": "code",
   "execution_count": null,
   "metadata": {},
   "outputs": [],
   "source": []
  },
  {
   "cell_type": "code",
   "execution_count": 111,
   "metadata": {},
   "outputs": [
    {
     "name": "stderr",
     "output_type": "stream",
     "text": [
      "/Users/dongxujia/anaconda3/lib/python3.7/site-packages/pandas/plotting/_converter.py:129: FutureWarning: Using an implicitly registered datetime converter for a matplotlib plotting method. The converter was registered by pandas on import. Future versions of pandas will require you to explicitly register matplotlib converters.\n",
      "\n",
      "To register the converters:\n",
      "\t>>> from pandas.plotting import register_matplotlib_converters\n",
      "\t>>> register_matplotlib_converters()\n",
      "  warnings.warn(msg, FutureWarning)\n"
     ]
    },
    {
     "data": {
      "image/png": "[encoded data removed]",
      "text/plain": [
       "<Figure size 720x360 with 1 Axes>"
      ]
     },
     "metadata": {
      "needs_background": "light"
     },
     "output_type": "display_data"
    }
   ],
   "source": [
    "plt.figure(figsize = (10,5))\n",
    "plt.grid(True)\n",
    "\n",
    "plt.plot(mean, linewidth = 2);\n",
    "plt.fill_between(std.index, (mean - 2 * std), (mean + 2 * std), color = 'b', alpha = .15);"
   ]
  },
  {
   "cell_type": "code",
   "execution_count": 78,
   "metadata": {},
   "outputs": [
    {
     "data": {
      "text/plain": [
       "<matplotlib.axes._subplots.AxesSubplot at 0x1276e45f8>"
      ]
     },
     "execution_count": 78,
     "metadata": {},
     "output_type": "execute_result"
    },
    {
     "data": {
      "image/png": "[encoded data removed]",
      "text/plain": [
       "<Figure size 432x288 with 1 Axes>"
      ]
     },
     "metadata": {
      "needs_background": "light"
     },
     "output_type": "display_data"
    }
   ],
   "source": [
    "data_withLoss[data_withLoss.StockCode == 'RDTA0080'].TrnQty_withLoss.hist(bins = 50)"
   ]
  },
  {
   "cell_type": "code",
   "execution_count": null,
   "metadata": {},
   "outputs": [],
   "source": []
  }
 ],
 "metadata": {
  "kernelspec": {
   "display_name": "Python 3",
   "language": "python",
   "name": "python3"
  },
  "language_info": {
   "codemirror_mode": {
    "name": "ipython",
    "version": 3
   },
   "file_extension": ".py",
   "mimetype": "text/x-python",
   "name": "python",
   "nbconvert_exporter": "python",
   "pygments_lexer": "ipython3",
   "version": "3.7.3"
  }
 },
 "nbformat": 4,
 "nbformat_minor": 2
}
