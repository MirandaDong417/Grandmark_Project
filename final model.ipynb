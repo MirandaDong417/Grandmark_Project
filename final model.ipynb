{
 "cells": [
  {
   "cell_type": "code",
   "execution_count": 1,
   "metadata": {
    "colab": {},
    "colab_type": "code",
    "id": "0bEv3rNHKCHx"
   },
   "outputs": [],
   "source": [
    "import pandas as pd\n",
    "import numpy as np\n",
    "import matplotlib.pyplot as plt\n",
    "import time\n",
    "from tqdm import tqdm\n",
    "import xlwt\n",
    "from scipy.stats import norm\n",
    "from xlwt import Workbook \n",
    "import math"
   ]
  },
  {
   "cell_type": "code",
   "execution_count": 2,
   "metadata": {
    "colab": {},
    "colab_type": "code",
    "id": "-qgzZHY8KCH5"
   },
   "outputs": [],
   "source": [
    "J2_2019 = pd.read_excel('sales_movements_J2.xlsx', sheet_name = '2019')\n",
    "J2_2018 = pd.read_excel('sales_movements_J2.xlsx', sheet_name = '2018')"
   ]
  },
  {
   "cell_type": "code",
   "execution_count": 3,
   "metadata": {
    "colab": {},
    "colab_type": "code",
    "id": "pI4krELcKCII"
   },
   "outputs": [],
   "source": [
    "lost_sales = pd.read_excel(\"Lost Sales.xlsx\", sheet_name = \"LostSalesAll\")"
   ]
  },
  {
   "cell_type": "code",
   "execution_count": 5,
   "metadata": {},
   "outputs": [],
   "source": [
    "def lossFunctionSingle(sales, loss_sales, wh, windowSize, sc):\n",
    "    lost_sales_dict = {}\n",
    "    \"\"\"\"\n",
    "    creates a dictionary mapping a sales code to an array where index 0 is the \n",
    "    number of times a lost sale occurred and index 1 is the total of lost quantity\n",
    "    windowSize: how many rows at once \n",
    "    \n",
    "    Size of the moving window. This is the number of observations used for calculating the statistic.\n",
    "   \n",
    "    \"\"\"\n",
    "    sales.loc[:, 'TrnQty'] = sales['TrnQty'].abs()\n",
    "    sales = sales[sales[\"StockCode\"] == sc]\n",
    "    loss_sales = loss_sales[loss_sales[\"StockCode\"] == sc]\n",
    "    loss_sales = loss_sales[loss_sales[\"Warehouse\"] == wh]\n",
    "    for index,row in loss_sales.iterrows():\n",
    "        code = row[\"StockCode\"]\n",
    "        if code in lost_sales_dict.keys(): \n",
    "            lost_sales_dict[code][0] += 1\n",
    "            lost_sales_dict[code][1] += row[\"QuantityLost\"] \n",
    "        else:\n",
    "            lost_sales_dict[code] = []\n",
    "            lost_sales_dict[code].append(1)\n",
    "            lost_sales_dict[code].append(row[\"QuantityLost\"])\n",
    "    TrnQty_withLoss = []\n",
    "    sales = sales.groupby([\"StockCode\",\"EntryDate\"])['TrnQty'].sum().reset_index()\n",
    "    for index, row in sales.iterrows():\n",
    "        code = row[\"StockCode\"]\n",
    "        TrnQty = row['TrnQty']\n",
    "        if code in lost_sales_dict.keys(): \n",
    "            lostSalesAvg = lost_sales_dict[code][1] / lost_sales_dict[code][0]\n",
    "            TrnQty_withLoss.append(TrnQty + lostSalesAvg)\n",
    "        else:\n",
    "            TrnQty_withLoss.append(TrnQty)\n",
    "            \n",
    "    sales.loc[:, \"TrnQty_withLoss\"] = TrnQty_withLoss\n",
    "    sales.loc[:, \"count\"] = sales.groupby('StockCode')['StockCode'].transform('count')\n",
    "    sales.loc[:, \"EntryDate\"] = pd.to_datetime(sales['EntryDate'])\n",
    "    sales.loc[:, \"mean\"] = sales.TrnQty_withLoss.rolling(windowSize, min_periods = 1).mean()\n",
    "    sales.loc[:, \"std\"] = sales.TrnQty_withLoss.rolling(windowSize, min_periods = 1).std()\n",
    "    return sales"
   ]
  },
  {
   "cell_type": "code",
   "execution_count": 6,
   "metadata": {
    "colab": {},
    "colab_type": "code",
    "id": "kK7RVpMfKCIf"
   },
   "outputs": [],
   "source": [
    "def calculateError(dwrw, nextYear, sd):\n",
    "    error = 0\n",
    "    count = 0\n",
    "    nNy = nextYear[nextYear[\"StockCode\"] == dwrw.StockCode.unique()[0]]\n",
    "    nNy.loc[:, \"EntryDate\"] = pd.to_datetime(nNy['EntryDate'])\n",
    "    nNy = nNy.groupby([\"StockCode\",\"EntryDate\"])['TrnQty'].sum().reset_index()\n",
    "    nNy['month'] = [row['EntryDate'].month for index, row in nNy.iterrows()]\n",
    "    nNy['day'] = [row['EntryDate'].day for index, row in nNy.iterrows()]\n",
    "    for index, row in dwrw.iterrows():\n",
    "        upperBound = row[\"mean\"] + sd * row[\"std\"]\n",
    "        q = nNy[nNy[\"month\"] == row[\"EntryDate\"].month]\n",
    "        q = q[q[\"day\"]== row[\"EntryDate\"].day]\n",
    "        q = q[\"TrnQty\"]\n",
    "        if len(q) > 0 and not np.isnan(upperBound):\n",
    "            idx = list(q.index.values)[0]\n",
    "            qtyatIndex = q[idx]\n",
    "            if qtyatIndex >= 0:\n",
    "                error += (q[idx] - upperBound)**2\n",
    "                count += 1\n",
    "    if count > 0:\n",
    "        return error/count\n",
    "    else:\n",
    "        return -1\n",
    "        "
   ]
  },
  {
   "cell_type": "code",
   "execution_count": 49,
   "metadata": {
    "colab": {},
    "colab_type": "code",
    "id": "s80glR9eKCIs"
   },
   "outputs": [],
   "source": [
    "def minError(salesdf, nextYear, lossSales, wh):\n",
    "    salesdf = salesdf.groupby([\"StockCode\",\"EntryDate\"])['TrnQty'].sum().reset_index()\n",
    "    salesdf.loc[:, \"count\"] = salesdf.groupby('StockCode')['StockCode'].transform('count')\n",
    "    salesdf = salesdf[salesdf[\"count\"] > 9]\n",
    "    unqStockCodes = salesdf.StockCode.unique()\n",
    "    minerrordict = {}\n",
    "    for x in tqdm(range(0, len(unqStockCodes))):\n",
    "        sc = unqStockCodes[x]\n",
    "        base = salesdf[salesdf[\"StockCode\"] == sc].shape[0]\n",
    "        rate = int(round(base * .7))\n",
    "        dwrw = lossFunctionSingle(salesdf, lossSales, wh, base, sc)\n",
    "        priorWindowSize = base\n",
    "        ct = base + 1\n",
    "        priorError = calculateError(dwrw, nextYear, 0)\n",
    "        attemptedWindowSizes = []\n",
    "        errorWindowSizes = []\n",
    "        minerrordict[sc] = base\n",
    "        while True:\n",
    "            if ct == 0:\n",
    "                break\n",
    "            if rate < 1:\n",
    "                break\n",
    "            currWindowSize = priorWindowSize - rate\n",
    "            if currWindowSize in attemptedWindowSizes or currWindowSize < 1:\n",
    "                break\n",
    "            if len(errorWindowSizes) > 0:\n",
    "                if currWindowSize < min(errorWindowSizes):\n",
    "                    break\n",
    "            attemptedWindowSizes.append(currWindowSize)\n",
    "            if currWindowSize < 1:\n",
    "                break\n",
    "            dwrw = lossFunctionSingle(salesdf, lossSales, wh, currWindowSize, sc)\n",
    "            currError = calculateError(dwrw, nextYear, 0)\n",
    "            if currError < 0:\n",
    "                break\n",
    "            if currError < priorError:\n",
    "                rate = 2\n",
    "                minerrordict[sc] = currWindowSize\n",
    "                priorError = currError\n",
    "                priorWindowSize = currWindowSize\n",
    "            elif currError == priorError:\n",
    "                rate = rate + int(round(.1 * base))\n",
    "            else:\n",
    "                errorWindowSizes.append(currWindowSize)\n",
    "                rate = rate - int(round(.05 * base))\n",
    "            ct-=1\n",
    "    return minerrordict\n",
    "        \n",
    "        "
   ]
  },
  {
   "cell_type": "code",
   "execution_count": 74,
   "metadata": {},
   "outputs": [
    {
     "name": "stderr",
     "output_type": "stream",
     "text": [
      "\n",
      "\n",
      "\n",
      "\n",
      "  0%|          | 0/5 [00:00<?, ?it/s]\u001b[A\u001b[A\u001b[A\u001b[A/Users/JosephYu/anaconda3/lib/python3.7/site-packages/pandas/core/indexing.py:543: SettingWithCopyWarning: \n",
      "A value is trying to be set on a copy of a slice from a DataFrame.\n",
      "Try using .loc[row_indexer,col_indexer] = value instead\n",
      "\n",
      "See the caveats in the documentation: http://pandas.pydata.org/pandas-docs/stable/indexing.html#indexing-view-versus-copy\n",
      "  self.obj[item] = s\n",
      "\n",
      "\n",
      "\n",
      "\n",
      " 20%|██        | 1/5 [01:22<05:30, 82.56s/it]\u001b[A\u001b[A\u001b[A\u001b[A\n",
      "\n",
      "\n",
      "\n",
      " 40%|████      | 2/5 [02:29<03:53, 77.97s/it]\u001b[A\u001b[A\u001b[A\u001b[A\n",
      "\n",
      "\n",
      "\n",
      " 60%|██████    | 3/5 [03:50<02:37, 78.91s/it]\u001b[A\u001b[A\u001b[A\u001b[A\n",
      "\n",
      "\n",
      "\n",
      " 80%|████████  | 4/5 [05:20<01:22, 82.05s/it]\u001b[A\u001b[A\u001b[A\u001b[A\n",
      "\n",
      "\n",
      "\n",
      "100%|██████████| 5/5 [07:13<00:00, 91.40s/it]\u001b[A\u001b[A\u001b[A\u001b[A\n",
      "\n",
      "\n",
      "\n",
      "\u001b[A\u001b[A\u001b[A\u001b[A"
     ]
    }
   ],
   "source": [
    "a = minError(J2_2018, J2_2019, lost_sales, \"J2\", 0)\n"
   ]
  },
  {
   "cell_type": "code",
   "execution_count": 4,
   "metadata": {},
   "outputs": [
    {
     "data": {
      "text/plain": [
       "0.994457883209753"
      ]
     },
     "execution_count": 4,
     "metadata": {},
     "output_type": "execute_result"
    }
   ],
   "source": [
    "norm.ppf(.84)"
   ]
  },
  {
   "cell_type": "code",
   "execution_count": 109,
   "metadata": {},
   "outputs": [],
   "source": [
    "def generateTrnQty(salesdf, nextYear, lossSales, wh, confidentPercent):\n",
    "    \n",
    "    \"\"\"\n",
    "    salesdf -\n",
    "    nextYear -\n",
    "    lossSales -\n",
    "    wh -\n",
    "    confidentPercent - confidence level \n",
    "    \n",
    "    This function returns a dataframe that shows the yearly and quarterly turnover quantity prediction for each stock code, \n",
    "    with mean value and a confidence interval upper bound value for each time period.\n",
    "    \n",
    "    \"\"\"\n",
    "    \n",
    "    slidingWindowDict = minError(salesdf, nextYear, lossSales, wh)\n",
    "    sd = norm.ppf((100 + confidentPercent)/200)\n",
    "    df = pd.DataFrame([], columns = [])\n",
    "    for key in slidingWindowDict.keys():\n",
    "        lfs = lossFunctionSingle(salesdf, lossSales, wh, slidingWindowDict[key], key)\n",
    "        a\n",
    "        quartile = []\n",
    "        standard = []\n",
    "        for x in range(1, 5):\n",
    "            quartile.append(sum([int(row['mean']) for index, row in lfs.iterrows() if int(row[\n",
    "                \"EntryDate\"].month) < x*3 + 1 and int(row[\"EntryDate\"].month) > (x-1)*3]))\n",
    "            standard.append(math.ceil(quartile[x-1] + sum([sd * int(row['std']) for index, row in lfs.iterrows(\n",
    "            ) if int(row[\"EntryDate\"].month) < x*3 + 1 and int(row[\"EntryDate\"].month) > (x-1)*3 and index > 1]))) \n",
    "        lfs = lfs.groupby(\"StockCode\")['mean'].sum().round().reset_index()\n",
    "        lfs[str(confidentPercent) + \"% TrnQty\"] = lfs['mean'][0] + standardDeviation\n",
    "        for x in range(1, 5):\n",
    "            lfs['q' + str(x)] = quartile[x - 1]\n",
    "            lfs['q' + str(x) + \" \" + str(confidentPercent) + '% confidence'] = standard[x-1]          \n",
    "        df = df.append(lfs)\n",
    "    return df\n",
    "        \n",
    "    "
   ]
  },
  {
   "cell_type": "code",
   "execution_count": 112,
   "metadata": {},
   "outputs": [
    {
     "data": {
      "text/html": [
       "<div>\n",
       "<style scoped>\n",
       "    .dataframe tbody tr th:only-of-type {\n",
       "        vertical-align: middle;\n",
       "    }\n",
       "\n",
       "    .dataframe tbody tr th {\n",
       "        vertical-align: top;\n",
       "    }\n",
       "\n",
       "    .dataframe thead th {\n",
       "        text-align: right;\n",
       "    }\n",
       "</style>\n",
       "<table border=\"1\" class=\"dataframe\">\n",
       "  <thead>\n",
       "    <tr style=\"text-align: right;\">\n",
       "      <th></th>\n",
       "      <th>StockCode</th>\n",
       "      <th>mean</th>\n",
       "      <th>95% TrnQty</th>\n",
       "      <th>q1</th>\n",
       "      <th>q1 95% confidence</th>\n",
       "      <th>q2</th>\n",
       "      <th>q2 95% confidence</th>\n",
       "      <th>q3</th>\n",
       "      <th>q3 95% confidence</th>\n",
       "      <th>q4</th>\n",
       "      <th>q4 95% confidence</th>\n",
       "    </tr>\n",
       "  </thead>\n",
       "  <tbody>\n",
       "    <tr>\n",
       "      <th>0</th>\n",
       "      <td>1419</td>\n",
       "      <td>273.0</td>\n",
       "      <td>773.0</td>\n",
       "      <td>104</td>\n",
       "      <td>291</td>\n",
       "      <td>28</td>\n",
       "      <td>87</td>\n",
       "      <td>60</td>\n",
       "      <td>166</td>\n",
       "      <td>56</td>\n",
       "      <td>149</td>\n",
       "    </tr>\n",
       "    <tr>\n",
       "      <th>0</th>\n",
       "      <td>1431</td>\n",
       "      <td>453.0</td>\n",
       "      <td>1176.0</td>\n",
       "      <td>152</td>\n",
       "      <td>403</td>\n",
       "      <td>59</td>\n",
       "      <td>152</td>\n",
       "      <td>102</td>\n",
       "      <td>230</td>\n",
       "      <td>93</td>\n",
       "      <td>246</td>\n",
       "    </tr>\n",
       "    <tr>\n",
       "      <th>0</th>\n",
       "      <td>159439</td>\n",
       "      <td>940.0</td>\n",
       "      <td>1695.0</td>\n",
       "      <td>350</td>\n",
       "      <td>662</td>\n",
       "      <td>142</td>\n",
       "      <td>244</td>\n",
       "      <td>176</td>\n",
       "      <td>300</td>\n",
       "      <td>257</td>\n",
       "      <td>448</td>\n",
       "    </tr>\n",
       "    <tr>\n",
       "      <th>0</th>\n",
       "      <td>159440</td>\n",
       "      <td>15829.0</td>\n",
       "      <td>46390.0</td>\n",
       "      <td>4640</td>\n",
       "      <td>13758</td>\n",
       "      <td>3056</td>\n",
       "      <td>8262</td>\n",
       "      <td>3935</td>\n",
       "      <td>11385</td>\n",
       "      <td>4099</td>\n",
       "      <td>12684</td>\n",
       "    </tr>\n",
       "    <tr>\n",
       "      <th>0</th>\n",
       "      <td>174257</td>\n",
       "      <td>7245.0</td>\n",
       "      <td>15645.0</td>\n",
       "      <td>2106</td>\n",
       "      <td>4264</td>\n",
       "      <td>1568</td>\n",
       "      <td>3297</td>\n",
       "      <td>1589</td>\n",
       "      <td>3436</td>\n",
       "      <td>1970</td>\n",
       "      <td>4605</td>\n",
       "    </tr>\n",
       "  </tbody>\n",
       "</table>\n",
       "</div>"
      ],
      "text/plain": [
       "  StockCode     mean  95% TrnQty    q1  q1 95% confidence    q2  \\\n",
       "0      1419    273.0       773.0   104                291    28   \n",
       "0      1431    453.0      1176.0   152                403    59   \n",
       "0    159439    940.0      1695.0   350                662   142   \n",
       "0    159440  15829.0     46390.0  4640              13758  3056   \n",
       "0    174257   7245.0     15645.0  2106               4264  1568   \n",
       "\n",
       "   q2 95% confidence    q3  q3 95% confidence    q4  q4 95% confidence  \n",
       "0                 87    60                166    56                149  \n",
       "0                152   102                230    93                246  \n",
       "0                244   176                300   257                448  \n",
       "0               8262  3935              11385  4099              12684  \n",
       "0               3297  1589               3436  1970               4605  "
      ]
     },
     "execution_count": 112,
     "metadata": {},
     "output_type": "execute_result"
    }
   ],
   "source": [
    "generateTrnQty(J2_2018, J2_2019, lost_sales, \"J2\", 95)"
   ]
  },
  {
   "cell_type": "code",
   "execution_count": 60,
   "metadata": {},
   "outputs": [
    {
     "data": {
      "text/plain": [
       "{'1419': 64, '1431': 19, '159439': 34, '159440': 39, '174257': 33}"
      ]
     },
     "execution_count": 60,
     "metadata": {},
     "output_type": "execute_result"
    }
   ],
   "source": [
    "a"
   ]
  },
  {
   "cell_type": "code",
   "execution_count": null,
   "metadata": {},
   "outputs": [],
   "source": []
  }
 ],
 "metadata": {
  "colab": {
   "name": "sliding_window.ipynb",
   "provenance": []
  },
  "kernelspec": {
   "display_name": "Python 3",
   "language": "python",
   "name": "python3"
  },
  "language_info": {
   "codemirror_mode": {
    "name": "ipython",
    "version": 3
   },
   "file_extension": ".py",
   "mimetype": "text/x-python",
   "name": "python",
   "nbconvert_exporter": "python",
   "pygments_lexer": "ipython3",
   "version": "3.7.3"
  }
 },
 "nbformat": 4,
 "nbformat_minor": 1
}
